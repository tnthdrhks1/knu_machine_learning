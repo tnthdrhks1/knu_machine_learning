{
  "nbformat": 4,
  "nbformat_minor": 0,
  "metadata": {
    "colab": {
      "name": "1212_toyproject3.ipynb",
      "provenance": [],
      "collapsed_sections": [],
      "authorship_tag": "ABX9TyNZuqZbnrdWk5pphN9sBzsl",
      "include_colab_link": true
    },
    "kernelspec": {
      "name": "python3",
      "display_name": "Python 3"
    }
  },
  "cells": [
    {
      "cell_type": "markdown",
      "metadata": {
        "id": "view-in-github",
        "colab_type": "text"
      },
      "source": [
        "<a href=\"https://colab.research.google.com/github/tnthdrhks1/knu_machine_learning/blob/main/1212_toyproject3.ipynb\" target=\"_parent\"><img src=\"https://colab.research.google.com/assets/colab-badge.svg\" alt=\"Open In Colab\"/></a>"
      ]
    },
    {
      "cell_type": "code",
      "metadata": {
        "id": "lzAN9XV0AH0I"
      },
      "source": [
        "import numpy as np\r\n",
        "import pandas as pd\r\n",
        "import tensorflow_datasets as tfds\r\n",
        "import matplotlib.pyplot as plt\r\n",
        "import matplotlib\r\n",
        "from sklearn.linear_model import SGDClassifier\r\n",
        "from sklearn.metrics import confusion_matrix, classification_report\r\n",
        "from PIL import Image\r\n",
        "from sklearn.neural_network import MLPClassifier\r\n",
        "import requests\r\n",
        "from io import BytesIO\r\n",
        "from sklearn.model_selection import train_test_split"
      ],
      "execution_count": null,
      "outputs": []
    },
    {
      "cell_type": "code",
      "metadata": {
        "id": "d4MP5lOJAUIo"
      },
      "source": [
        "from glob import glob"
      ],
      "execution_count": null,
      "outputs": []
    },
    {
      "cell_type": "code",
      "metadata": {
        "id": "JisVzj_xArqh",
        "colab": {
          "base_uri": "https://localhost:8080/",
          "height": 35
        },
        "outputId": "ef23cb85-6a73-4059-9ace-9617e88b165e"
      },
      "source": [
        "imglist = glob('*.jpg')\r\n",
        "imglist[2][6:-4]"
      ],
      "execution_count": null,
      "outputs": [
        {
          "output_type": "execute_result",
          "data": {
            "application/vnd.google.colaboratory.intrinsic+json": {
              "type": "string"
            },
            "text/plain": [
              "'Mask'"
            ]
          },
          "metadata": {
            "tags": []
          },
          "execution_count": 50
        }
      ]
    },
    {
      "cell_type": "code",
      "metadata": {
        "id": "NXG-RG5-B7gU"
      },
      "source": [
        "X_train = [] #1 \r\n",
        "X_test = [] #2\r\n",
        "y_train = [] #3\r\n",
        "y_test = [] #4\r\n",
        "\r\n",
        "thelist = [[],[],[],[]]\r\n",
        "for i in imglist:\r\n",
        "  img = Image.open(i)\r\n",
        "  img = img.resize((50,50))\r\n",
        "  img_np = np.array(img).reshape(-1)\r\n",
        "\r\n",
        "  if i[6:-4] == 'Mask':\r\n",
        "    X_train.append(img_np)\r\n",
        "    y_train.append(i[:5])\r\n",
        "  else:\r\n",
        "    X_test.append(img_np)\r\n",
        "    y_test.append(i[:5])\r\n",
        "\r\n",
        "X_train = np.array(X_train)\r\n",
        "X_test = np.array(X_test)\r\n",
        "y_test = np.array(y_test)\r\n",
        "y_train = np.array(y_train)"
      ],
      "execution_count": null,
      "outputs": []
    },
    {
      "cell_type": "code",
      "metadata": {
        "id": "_1d0lDapFSya"
      },
      "source": [
        "thelist = [[],[],[],[]]\r\n",
        "for i in imglist:\r\n",
        "  img = Image.open(i)\r\n",
        "  img = img.resize((50,50))\r\n",
        "  img_np = np.array(img).reshape(-1)\r\n",
        "\r\n",
        "  if i[6:-4] == 'Mask':\r\n",
        "    thelist[0].append(img_np)\r\n",
        "    thelist[1].append(i[:5])\r\n",
        "  else:\r\n",
        "    thelist[2].append(img_np)\r\n",
        "    thelist[3].append(i[:5])\r\n",
        "\r\n",
        "for i in range(len(thelist)):\r\n",
        "  thelist[i] = np.array(thelist[i])\r\n",
        "  \r\n",
        "thelist = np.array(thelist)"
      ],
      "execution_count": null,
      "outputs": []
    },
    {
      "cell_type": "code",
      "metadata": {
        "colab": {
          "base_uri": "https://localhost:8080/"
        },
        "id": "p3CBRuK2Fg7h",
        "outputId": "465e8de2-1de6-4bc8-d26f-b61ead490290"
      },
      "source": [
        "type(thelist)"
      ],
      "execution_count": null,
      "outputs": [
        {
          "output_type": "execute_result",
          "data": {
            "text/plain": [
              "numpy.ndarray"
            ]
          },
          "metadata": {
            "tags": []
          },
          "execution_count": 54
        }
      ]
    },
    {
      "cell_type": "code",
      "metadata": {
        "colab": {
          "base_uri": "https://localhost:8080/"
        },
        "id": "unBF0FFoGBCb",
        "outputId": "18e54180-ce2b-4b82-f8c7-3e4e977f19d9"
      },
      "source": [
        "thelist[0].shape, thelist[1].shape, thelist[2].shape, thelist[3].shape"
      ],
      "execution_count": null,
      "outputs": [
        {
          "output_type": "execute_result",
          "data": {
            "text/plain": [
              "((95, 7500), (95,), (87, 7500), (87,))"
            ]
          },
          "metadata": {
            "tags": []
          },
          "execution_count": 55
        }
      ]
    },
    {
      "cell_type": "code",
      "metadata": {
        "colab": {
          "base_uri": "https://localhost:8080/"
        },
        "id": "TSKSiNXsD5Vl",
        "outputId": "4c8bbdd6-511c-4745-d0a3-23e4de01d0d2"
      },
      "source": [
        "X_test.shape, X_train.shape, y_test.shape, y_train.shape"
      ],
      "execution_count": null,
      "outputs": [
        {
          "output_type": "execute_result",
          "data": {
            "text/plain": [
              "((87, 7500), (95, 7500), (87,), (95,))"
            ]
          },
          "metadata": {
            "tags": []
          },
          "execution_count": 56
        }
      ]
    },
    {
      "cell_type": "code",
      "metadata": {
        "id": "D9ksABgTEF6B"
      },
      "source": [
        "model = SGDClassifier().fit(thelist[0], thelist[1])"
      ],
      "execution_count": null,
      "outputs": []
    },
    {
      "cell_type": "code",
      "metadata": {
        "colab": {
          "base_uri": "https://localhost:8080/"
        },
        "id": "ShK07hXaEikK",
        "outputId": "616a1cfb-a17f-4536-d154-6d3f37814987"
      },
      "source": [
        "model.score(thelist[0], thelist[1]), model.score(thelist[2], thelist[3])"
      ],
      "execution_count": null,
      "outputs": [
        {
          "output_type": "execute_result",
          "data": {
            "text/plain": [
              "(0.9789473684210527, 0.9540229885057471)"
            ]
          },
          "metadata": {
            "tags": []
          },
          "execution_count": 63
        }
      ]
    }
  ]
}