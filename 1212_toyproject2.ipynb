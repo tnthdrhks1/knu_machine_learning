{
  "nbformat": 4,
  "nbformat_minor": 0,
  "metadata": {
    "colab": {
      "name": "1212_toyproject2.ipynb",
      "provenance": [],
      "collapsed_sections": [],
      "authorship_tag": "ABX9TyPHDpyyYJuWagYA6OWdRkwN",
      "include_colab_link": true
    },
    "kernelspec": {
      "name": "python3",
      "display_name": "Python 3"
    }
  },
  "cells": [
    {
      "cell_type": "markdown",
      "metadata": {
        "id": "view-in-github",
        "colab_type": "text"
      },
      "source": [
        "<a href=\"https://colab.research.google.com/github/tnthdrhks1/knu_machine_learning/blob/main/1212_toyproject2.ipynb\" target=\"_parent\"><img src=\"https://colab.research.google.com/assets/colab-badge.svg\" alt=\"Open In Colab\"/></a>"
      ]
    },
    {
      "cell_type": "code",
      "metadata": {
        "id": "ocI44JevwgDe"
      },
      "source": [
        "import numpy as np\r\n",
        "import pandas as pd\r\n",
        "import tensorflow_datasets as tfds\r\n",
        "import matplotlib.pyplot as plt\r\n",
        "import matplotlib\r\n",
        "from sklearn.linear_model import SGDClassifier\r\n",
        "from sklearn.metrics import confusion_matrix, classification_report\r\n",
        "from PIL import Image\r\n",
        "from sklearn.neural_network import MLPClassifier\r\n",
        "import requests\r\n",
        "from io import BytesIO\r\n",
        "from sklearn.model_selection import train_test_split"
      ],
      "execution_count": null,
      "outputs": []
    },
    {
      "cell_type": "code",
      "metadata": {
        "id": "IbGx9Wlnwm9j"
      },
      "source": [
        "from glob import glob"
      ],
      "execution_count": null,
      "outputs": []
    },
    {
      "cell_type": "markdown",
      "metadata": {
        "id": "GYcgt6bu0c-W"
      },
      "source": [
        "- MLP = 1.0\r\n",
        "- SGD = 1.0"
      ]
    },
    {
      "cell_type": "code",
      "metadata": {
        "colab": {
          "base_uri": "https://localhost:8080/"
        },
        "id": "OzrCs7FSxs_k",
        "outputId": "82b6cbe1-bc8f-44c7-8acd-cba1d351db38"
      },
      "source": [
        "imglist = glob('*.jpg')\r\n",
        "imglist"
      ],
      "execution_count": null,
      "outputs": [
        {
          "output_type": "execute_result",
          "data": {
            "text/plain": [
              "['00002_Mask.jpg',\n",
              " '00004_Mask.jpg',\n",
              " '00009_Mask.jpg',\n",
              " '00001_Mask_Mouth_Chin.jpg',\n",
              " '00008_Mask_Mouth_Chin.jpg',\n",
              " '00005_Mask_Mouth_Chin.jpg',\n",
              " '00007_Mask.jpg',\n",
              " '00010_Mask_Mouth_Chin.jpg',\n",
              " '00001_Mask.jpg',\n",
              " '00000_Mask_Mouth_Chin.jpg',\n",
              " '00001_Mask_Chin.jpg',\n",
              " '00005_Mask.jpg',\n",
              " '00002_Mask_Mouth_Chin.jpg',\n",
              " '00003_Mask_Mouth_Chin.jpg',\n",
              " '00000_Mask.jpg',\n",
              " '00003_Mask.jpg',\n",
              " '00004_Mask_Mouth_Chin.jpg',\n",
              " '00008_Mask.jpg',\n",
              " '00006_Mask.jpg',\n",
              " '00007_Mask_Mouth_Chin.jpg']"
            ]
          },
          "metadata": {
            "tags": []
          },
          "execution_count": 7
        }
      ]
    },
    {
      "cell_type": "code",
      "metadata": {
        "colab": {
          "base_uri": "https://localhost:8080/",
          "height": 67
        },
        "id": "TFF5TZU-xzTq",
        "outputId": "6902dd5e-fc79-40b6-b8a3-c0c2ad0e62ac"
      },
      "source": [
        "img = Image.open(imglist[0])\r\n",
        "img = img.resize((50,50))\r\n",
        "img"
      ],
      "execution_count": null,
      "outputs": [
        {
          "output_type": "execute_result",
          "data": {
            "image/png": "[encoded data removed]",
            "text/plain": [
              "<PIL.Image.Image image mode=RGB size=50x50 at 0x7F87C461FCF8>"
            ]
          },
          "metadata": {
            "tags": []
          },
          "execution_count": 8
        }
      ]
    },
    {
      "cell_type": "code",
      "metadata": {
        "id": "Hbj0WshPz1gD",
        "colab": {
          "base_uri": "https://localhost:8080/"
        },
        "outputId": "6d915f81-69c8-4cfe-b87c-4297653d3005"
      },
      "source": [
        "X = []\r\n",
        "y = []\r\n",
        "\r\n",
        "for i in imglist:\r\n",
        "  img = Image.open(i)\r\n",
        "  img = img.resize((50,50))\r\n",
        "  img_np = np.array(img)\r\n",
        "\r\n",
        "  y.append(i[:5])  \r\n",
        "  X.append(img_np)\r\n",
        "\r\n",
        "X = np.array(X).reshape(-1,50*50*3)\r\n",
        "y = np.array(y).astype(np.int)\r\n",
        "X.shape, y.shape"
      ],
      "execution_count": null,
      "outputs": [
        {
          "output_type": "execute_result",
          "data": {
            "text/plain": [
              "((20, 7500), (20,))"
            ]
          },
          "metadata": {
            "tags": []
          },
          "execution_count": 9
        }
      ]
    },
    {
      "cell_type": "code",
      "metadata": {
        "id": "Z0oWh0SNzh2N"
      },
      "source": [
        "model = MLPClassifier().fit(X, y)"
      ],
      "execution_count": null,
      "outputs": []
    },
    {
      "cell_type": "code",
      "metadata": {
        "id": "7Fd0NnYZz04L",
        "colab": {
          "base_uri": "https://localhost:8080/"
        },
        "outputId": "b646ae9b-012a-4484-d39f-7546cd260de6"
      },
      "source": [
        "model.score(X,y)"
      ],
      "execution_count": null,
      "outputs": [
        {
          "output_type": "execute_result",
          "data": {
            "text/plain": [
              "1.0"
            ]
          },
          "metadata": {
            "tags": []
          },
          "execution_count": 15
        }
      ]
    },
    {
      "cell_type": "code",
      "metadata": {
        "colab": {
          "base_uri": "https://localhost:8080/"
        },
        "id": "hQ1gKYiA0n6p",
        "outputId": "6da8f155-d639-4bd4-f278-c1bf53d6fabd"
      },
      "source": [
        "model.predict(X)"
      ],
      "execution_count": null,
      "outputs": [
        {
          "output_type": "execute_result",
          "data": {
            "text/plain": [
              "array([ 2,  4,  9,  1,  8,  5,  7, 10,  1,  0,  1,  5,  2,  3,  0,  3,  4,\n",
              "        8,  6,  7])"
            ]
          },
          "metadata": {
            "tags": []
          },
          "execution_count": 16
        }
      ]
    },
    {
      "cell_type": "code",
      "metadata": {
        "colab": {
          "base_uri": "https://localhost:8080/"
        },
        "id": "9Ju8t7mp0un1",
        "outputId": "b7525c3a-197a-467e-d09d-10d366b7f7af"
      },
      "source": [
        "y"
      ],
      "execution_count": null,
      "outputs": [
        {
          "output_type": "execute_result",
          "data": {
            "text/plain": [
              "array([ 2,  4,  9,  1,  8,  5,  7, 10,  1,  0,  1,  5,  2,  3,  0,  3,  4,\n",
              "        8,  6,  7])"
            ]
          },
          "metadata": {
            "tags": []
          },
          "execution_count": 20
        }
      ]
    },
    {
      "cell_type": "code",
      "metadata": {
        "id": "Q4mzeuLS-n88"
      },
      "source": [
        ""
      ],
      "execution_count": null,
      "outputs": []
    }
  ]
}