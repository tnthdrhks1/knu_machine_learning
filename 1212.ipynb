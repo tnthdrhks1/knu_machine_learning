{
  "nbformat": 4,
  "nbformat_minor": 0,
  "metadata": {
    "colab": {
      "name": "1212.ipynb",
      "provenance": [],
      "authorship_tag": "ABX9TyOkUlFc3PCctFa/xNqCsHBL",
      "include_colab_link": true
    },
    "kernelspec": {
      "name": "python3",
      "display_name": "Python 3"
    }
  },
  "cells": [
    {
      "cell_type": "markdown",
      "metadata": {
        "id": "view-in-github",
        "colab_type": "text"
      },
      "source": [
        "<a href=\"https://colab.research.google.com/github/tnthdrhks1/knu_machine_learning/blob/main/1212.ipynb\" target=\"_parent\"><img src=\"https://colab.research.google.com/assets/colab-badge.svg\" alt=\"Open In Colab\"/></a>"
      ]
    },
    {
      "cell_type": "code",
      "metadata": {
        "id": "pVTyp82sUAVq"
      },
      "source": [
        "import numpy as np\r\n",
        "import pandas as pd\r\n",
        "import tensorflow_datasets as tfds\r\n",
        "import matplotlib.pyplot as plt\r\n",
        "import matplotlib\r\n",
        "from sklearn.linear_model import SGDClassifier\r\n",
        "from sklearn.metrics import confusion_matrix, classification_report"
      ],
      "execution_count": null,
      "outputs": []
    },
    {
      "cell_type": "code",
      "metadata": {
        "id": "NRyWVoKne4hB"
      },
      "source": [
        "#sklean 은 배열 사용\r\n",
        "ds, ds_info = tfds.load(\r\n",
        "    \"binary_alpha_digits\",\r\n",
        "    split='train',\r\n",
        "    with_info = True\r\n",
        ")"
      ],
      "execution_count": null,
      "outputs": []
    },
    {
      "cell_type": "code",
      "metadata": {
        "colab": {
          "base_uri": "https://localhost:8080/"
        },
        "id": "02n3_6fBmNzq",
        "outputId": "f6518832-da43-4fd0-d8b1-f6787e1b60da"
      },
      "source": [
        "ds_info"
      ],
      "execution_count": null,
      "outputs": [
        {
          "output_type": "execute_result",
          "data": {
            "text/plain": [
              "tfds.core.DatasetInfo(\n",
              "    name='binary_alpha_digits',\n",
              "    version=1.0.0,\n",
              "    description='Binary 20x16 digits of '0' through '9' and capital 'A' through 'Z'. 39 examples of each class.',\n",
              "    homepage='https://cs.nyu.edu/~roweis/data/',\n",
              "    features=FeaturesDict({\n",
              "        'image': Image(shape=(20, 16, 1), dtype=tf.uint8),\n",
              "        'label': ClassLabel(shape=(), dtype=tf.int64, num_classes=36),\n",
              "    }),\n",
              "    total_num_examples=1404,\n",
              "    splits={\n",
              "        'train': 1404,\n",
              "    },\n",
              "    supervised_keys=('image', 'label'),\n",
              "    citation=\"\"\"\"\"\",\n",
              "    redistribution_info=,\n",
              ")"
            ]
          },
          "metadata": {
            "tags": []
          },
          "execution_count": 74
        }
      ]
    },
    {
      "cell_type": "code",
      "metadata": {
        "id": "lSqsFAjilMEN"
      },
      "source": [
        "ds = tfds.as_numpy(ds)"
      ],
      "execution_count": null,
      "outputs": []
    },
    {
      "cell_type": "code",
      "metadata": {
        "id": "-_Cses1YjEW0"
      },
      "source": [
        "listx = []\r\n",
        "listy = []\r\n",
        "\r\n",
        "for sample in ds:\r\n",
        "  x = sample['image']\r\n",
        "  y = sample['label']\r\n",
        "\r\n",
        "  listx.append(x.reshape(20,16))\r\n",
        "  listy.append(y)"
      ],
      "execution_count": null,
      "outputs": []
    },
    {
      "cell_type": "code",
      "metadata": {
        "colab": {
          "base_uri": "https://localhost:8080/"
        },
        "id": "z6sQCHmcqGS_",
        "outputId": "411f8541-151b-48f1-a120-b96603cc6bad"
      },
      "source": [
        "listx = np.array(listx).reshape(-1,20,16)\r\n",
        "listy = np.array(listy)\r\n",
        "listx[:5,:,:].shape"
      ],
      "execution_count": null,
      "outputs": [
        {
          "output_type": "execute_result",
          "data": {
            "text/plain": [
              "(5, 20, 16)"
            ]
          },
          "metadata": {
            "tags": []
          },
          "execution_count": 217
        }
      ]
    },
    {
      "cell_type": "code",
      "metadata": {
        "id": "OtLPAf0omd-b"
      },
      "source": [
        "def makegph(size):\r\n",
        "  graph = listx[:size,:,:].reshape(size*20,16)\r\n",
        "  plt.imshow(graph)"
      ],
      "execution_count": null,
      "outputs": []
    },
    {
      "cell_type": "code",
      "metadata": {
        "colab": {
          "base_uri": "https://localhost:8080/",
          "height": 265
        },
        "id": "MSp5MnGlrDmx",
        "outputId": "9e70454e-9fe2-435a-b82f-80ed0caa53f3"
      },
      "source": [
        "makegph(1)"
      ],
      "execution_count": null,
      "outputs": [
        {
          "output_type": "display_data",
          "data": {
            "image/png": "[encoded data removed]",
            "text/plain": [
              "<Figure size 432x288 with 1 Axes>"
            ]
          },
          "metadata": {
            "tags": [],
            "needs_background": "light"
          }
        }
      ]
    },
    {
      "cell_type": "code",
      "metadata": {
        "colab": {
          "base_uri": "https://localhost:8080/"
        },
        "id": "zjk-VSTUqAsc",
        "outputId": "41c8796c-93e7-4fdf-af20-589bb371a26e"
      },
      "source": [
        "listx.shape, listy.shape"
      ],
      "execution_count": null,
      "outputs": [
        {
          "output_type": "execute_result",
          "data": {
            "text/plain": [
              "((1404, 320), (1404,))"
            ]
          },
          "metadata": {
            "tags": []
          },
          "execution_count": 181
        }
      ]
    },
    {
      "cell_type": "code",
      "metadata": {
        "id": "xZ879MJpuzJ0"
      },
      "source": [
        "listx = np.array(listx).reshape(1404,-1)\r\n",
        "listy = np.array(listy)"
      ],
      "execution_count": null,
      "outputs": []
    },
    {
      "cell_type": "code",
      "metadata": {
        "id": "HyAO43brvNyA"
      },
      "source": [
        " = listx[::2]# 짝수\r\n",
        "test_x = listx[1::2]# 홀수\r\n",
        "train_y = listy[::2]\r\n",
        "test_y = listy[1::2]"
      ],
      "execution_count": null,
      "outputs": []
    },
    {
      "cell_type": "code",
      "metadata": {
        "colab": {
          "base_uri": "https://localhost:8080/"
        },
        "id": "DjW2iEtaqVUA",
        "outputId": "624d7ea6-ba47-4c79-bab2-770e694f7bd5"
      },
      "source": [
        "model = SGDClassifier().fit(listx, listy)\r\n",
        "model.score(listx, listy)"
      ],
      "execution_count": null,
      "outputs": [
        {
          "output_type": "execute_result",
          "data": {
            "text/plain": [
              "0.9772079772079773"
            ]
          },
          "metadata": {
            "tags": []
          },
          "execution_count": 187
        }
      ]
    },
    {
      "cell_type": "code",
      "metadata": {
        "id": "VKoHILo6ql3s"
      },
      "source": [
        "from sklearn.metrics import confusion_matrix, classification_report\r\n",
        "np.set_printoptions(threshold=10000)\r\n",
        "cm = confusion_matrix(test_y, model.predict(test_x))\r\n",
        "np.savetxt('confusion_matrix.txt', cm, fmt='%2d')\r\n",
        "#cm"
      ],
      "execution_count": null,
      "outputs": []
    },
    {
      "cell_type": "code",
      "metadata": {
        "colab": {
          "base_uri": "https://localhost:8080/",
          "height": 286
        },
        "id": "aK5Q4MjzvY2k",
        "outputId": "53f1505e-98e2-4feb-de4a-7eb1a4cc57ca"
      },
      "source": [
        "plt.imshow(cm)\r\n",
        "plt.colorbar()"
      ],
      "execution_count": null,
      "outputs": [
        {
          "output_type": "execute_result",
          "data": {
            "text/plain": [
              "<matplotlib.colorbar.Colorbar at 0x7f2713946d68>"
            ]
          },
          "metadata": {
            "tags": []
          },
          "execution_count": 190
        },
        {
          "output_type": "display_data",
          "data": {
            "image/png": "[encoded data removed]",
            "text/plain": [
              "<Figure size 432x288 with 2 Axes>"
            ]
          },
          "metadata": {
            "tags": [],
            "needs_background": "light"
          }
        }
      ]
    },
    {
      "cell_type": "code",
      "metadata": {
        "colab": {
          "base_uri": "https://localhost:8080/"
        },
        "id": "e3N8RLKDvbcy",
        "outputId": "30bdb13b-e0f7-43d4-c1ea-4fa8657c0775"
      },
      "source": [
        "classes = list('0123456789abcdefghijklmnopqrstuvwxyz')\r\n",
        "print(classification_report(test_y, model.predict(test_x), labels=classes))#오차 행렬"
      ],
      "execution_count": null,
      "outputs": [
        {
          "output_type": "stream",
          "text": [
            "              precision    recall  f1-score   support\n",
            "\n",
            "           0       0.88      1.00      0.93        14\n",
            "           1       1.00      1.00      1.00        21\n",
            "           2       1.00      1.00      1.00        19\n",
            "           3       0.90      1.00      0.95        18\n",
            "           4       1.00      1.00      1.00        21\n",
            "           5       1.00      0.95      0.98        22\n",
            "           6       0.95      1.00      0.98        21\n",
            "           7       1.00      0.94      0.97        16\n",
            "           8       1.00      1.00      1.00        22\n",
            "           9       1.00      1.00      1.00        23\n",
            "           a       0.00      0.00      0.00         0\n",
            "           b       0.00      0.00      0.00         0\n",
            "           c       0.00      0.00      0.00         0\n",
            "           d       0.00      0.00      0.00         0\n",
            "           e       0.00      0.00      0.00         0\n",
            "           f       0.00      0.00      0.00         0\n",
            "           g       0.00      0.00      0.00         0\n",
            "           h       0.00      0.00      0.00         0\n",
            "           i       0.00      0.00      0.00         0\n",
            "           j       0.00      0.00      0.00         0\n",
            "           k       0.00      0.00      0.00         0\n",
            "           l       0.00      0.00      0.00         0\n",
            "           m       0.00      0.00      0.00         0\n",
            "           n       0.00      0.00      0.00         0\n",
            "           o       0.00      0.00      0.00         0\n",
            "           p       0.00      0.00      0.00         0\n",
            "           q       0.00      0.00      0.00         0\n",
            "           r       0.00      0.00      0.00         0\n",
            "           s       0.00      0.00      0.00         0\n",
            "           t       0.00      0.00      0.00         0\n",
            "           u       0.00      0.00      0.00         0\n",
            "           v       0.00      0.00      0.00         0\n",
            "           w       0.00      0.00      0.00         0\n",
            "           x       0.00      0.00      0.00         0\n",
            "           y       0.00      0.00      0.00         0\n",
            "           z       0.00      0.00      0.00         0\n",
            "\n",
            "   micro avg       0.97      0.99      0.98       197\n",
            "   macro avg       0.27      0.27      0.27       197\n",
            "weighted avg       0.98      0.99      0.98       197\n",
            "\n"
          ],
          "name": "stdout"
        },
        {
          "output_type": "stream",
          "text": [
            "/usr/local/lib/python3.6/dist-packages/sklearn/metrics/_classification.py:1272: UndefinedMetricWarning: Precision and F-score are ill-defined and being set to 0.0 in labels with no predicted samples. Use `zero_division` parameter to control this behavior.\n",
            "  _warn_prf(average, modifier, msg_start, len(result))\n",
            "/usr/local/lib/python3.6/dist-packages/sklearn/metrics/_classification.py:1272: UndefinedMetricWarning: Recall and F-score are ill-defined and being set to 0.0 in labels with no true samples. Use `zero_division` parameter to control this behavior.\n",
            "  _warn_prf(average, modifier, msg_start, len(result))\n"
          ],
          "name": "stderr"
        }
      ]
    },
    {
      "cell_type": "code",
      "metadata": {
        "id": "tTabillYvyKd"
      },
      "source": [
        "m,n = listx.shape\r\n",
        "randx = np.random.rand(m,n)\r\n",
        "sumx = np.concatenate((listx,listx+randx,listx-randx),axis = 0)\r\n",
        "sumy = np.concatenate((listy,listy,listy),axis = 0)"
      ],
      "execution_count": null,
      "outputs": []
    },
    {
      "cell_type": "code",
      "metadata": {
        "colab": {
          "base_uri": "https://localhost:8080/"
        },
        "id": "8nNR7f-KwKcU",
        "outputId": "80fd2187-155c-463a-bad3-1ba27fb3a18b"
      },
      "source": [
        "sumx.shape, sumy.shape"
      ],
      "execution_count": null,
      "outputs": [
        {
          "output_type": "execute_result",
          "data": {
            "text/plain": [
              "((4212, 320), (4212,))"
            ]
          },
          "metadata": {
            "tags": []
          },
          "execution_count": 201
        }
      ]
    },
    {
      "cell_type": "code",
      "metadata": {
        "colab": {
          "base_uri": "https://localhost:8080/"
        },
        "id": "TiUGkDouwNm3",
        "outputId": "316d3f0a-1acf-4a30-9ac7-29783c19afeb"
      },
      "source": [
        "model = SGDClassifier().fit(sumx, sumy)\r\n",
        "model.score(sumx, sumy)"
      ],
      "execution_count": null,
      "outputs": [
        {
          "output_type": "execute_result",
          "data": {
            "text/plain": [
              "0.949667616334283"
            ]
          },
          "metadata": {
            "tags": []
          },
          "execution_count": 203
        }
      ]
    },
    {
      "cell_type": "markdown",
      "metadata": {
        "id": "zM34HRNJxNqN"
      },
      "source": [
        "# 이미지를 회전하여 학습데이터 늘이기\r\n"
      ]
    },
    {
      "cell_type": "code",
      "metadata": {
        "id": "goEhETSnyFRD"
      },
      "source": [
        "from PIL import Image"
      ],
      "execution_count": null,
      "outputs": []
    },
    {
      "cell_type": "code",
      "metadata": {
        "id": "KLe7p805xQ1p"
      },
      "source": [
        "listrotate = []\r\n",
        "for i in range(len(listx)):\r\n",
        "  x = listx[i]\r\n",
        "  x_2d = x.reshape(20,16)\r\n",
        "  img = Image.fromarray(x_2d)\r\n",
        "  img_rotate = img.rotate(50)\r\n",
        "  img_rotate = np.array(img_rotate)\r\n",
        "  listrotate.append(img_rotate)\r\n",
        "\r\n",
        "listrotate = np.array(listrotate)"
      ],
      "execution_count": null,
      "outputs": []
    },
    {
      "cell_type": "code",
      "metadata": {
        "colab": {
          "base_uri": "https://localhost:8080/",
          "height": 37
        },
        "id": "aqG__Ff0yOk8",
        "outputId": "2143f608-8b8f-4a6c-8413-d17dc253527a"
      },
      "source": [
        "x = listx[2]\r\n",
        "x_2d = x.reshape(20,16)\r\n",
        "img = Image.fromarray(x_2d*255)\r\n",
        "img_rotate = img.rotate(50)\r\n",
        "img_rotate"
      ],
      "execution_count": null,
      "outputs": [
        {
          "output_type": "execute_result",
          "data": {
            "image/png": "[encoded data removed]",
            "text/plain": [
              "<PIL.Image.Image image mode=L size=16x20 at 0x7F2707EE2F28>"
            ]
          },
          "metadata": {
            "tags": []
          },
          "execution_count": 271
        }
      ]
    },
    {
      "cell_type": "code",
      "metadata": {
        "colab": {
          "base_uri": "https://localhost:8080/"
        },
        "id": "JeRUW-LLy252",
        "outputId": "bd8bf775-7729-4feb-e62d-351d7a8ea674"
      },
      "source": [
        "listx.shape"
      ],
      "execution_count": null,
      "outputs": [
        {
          "output_type": "execute_result",
          "data": {
            "text/plain": [
              "(1404, 20, 16)"
            ]
          },
          "metadata": {
            "tags": []
          },
          "execution_count": 272
        }
      ]
    },
    {
      "cell_type": "code",
      "metadata": {
        "colab": {
          "base_uri": "https://localhost:8080/"
        },
        "id": "FpDRV3L5y73V",
        "outputId": "d4846af4-1bbd-49ad-e494-6caa4f1239d6"
      },
      "source": [
        "sumxx = np.concatenate((listx, listrotate),axis=0)\r\n",
        "sumxx.shape"
      ],
      "execution_count": null,
      "outputs": [
        {
          "output_type": "execute_result",
          "data": {
            "text/plain": [
              "(2808, 20, 16)"
            ]
          },
          "metadata": {
            "tags": []
          },
          "execution_count": 273
        }
      ]
    },
    {
      "cell_type": "code",
      "metadata": {
        "colab": {
          "base_uri": "https://localhost:8080/"
        },
        "id": "XHgusYNlzk9Z",
        "outputId": "27443844-858b-4ecb-8fd8-87946b48d82b"
      },
      "source": [
        "sumxx = sumxx.reshape(-1,20*16)\r\n",
        "sumxx.shape"
      ],
      "execution_count": null,
      "outputs": [
        {
          "output_type": "execute_result",
          "data": {
            "text/plain": [
              "(2808, 320)"
            ]
          },
          "metadata": {
            "tags": []
          },
          "execution_count": 274
        }
      ]
    },
    {
      "cell_type": "code",
      "metadata": {
        "colab": {
          "base_uri": "https://localhost:8080/",
          "height": 282
        },
        "id": "OlCwAFeA01M3",
        "outputId": "87daff08-387c-4adb-bb95-2b7c3e56f0a6"
      },
      "source": [
        "plt.imshow(sumxx[0].reshape(20,16))"
      ],
      "execution_count": null,
      "outputs": [
        {
          "output_type": "execute_result",
          "data": {
            "text/plain": [
              "<matplotlib.image.AxesImage at 0x7f2707e37f60>"
            ]
          },
          "metadata": {
            "tags": []
          },
          "execution_count": 283
        },
        {
          "output_type": "display_data",
          "data": {
            "image/png": "[encoded data removed]",
            "text/plain": [
              "<Figure size 432x288 with 1 Axes>"
            ]
          },
          "metadata": {
            "tags": [],
            "needs_background": "light"
          }
        }
      ]
    },
    {
      "cell_type": "code",
      "metadata": {
        "colab": {
          "base_uri": "https://localhost:8080/"
        },
        "id": "TfEbulLX0n0J",
        "outputId": "bddf2ae0-09f0-4181-e396-18cd988b77aa"
      },
      "source": [
        "sumyy = np.concatenate((listy, listy),axis=0)\r\n",
        "sumyy.shape"
      ],
      "execution_count": null,
      "outputs": [
        {
          "output_type": "execute_result",
          "data": {
            "text/plain": [
              "(2808,)"
            ]
          },
          "metadata": {
            "tags": []
          },
          "execution_count": 279
        }
      ]
    },
    {
      "cell_type": "code",
      "metadata": {
        "colab": {
          "base_uri": "https://localhost:8080/"
        },
        "id": "CsiFxZkwz85f",
        "outputId": "89c1f9cf-ff5f-4fe8-a9fb-7082bd744e77"
      },
      "source": [
        "model = MLPClassifier((100,100),alpha=0.0001*1000).fit(sumxx, sumyy) #모델링, 최선의 모델을 찾는 과정\r\n",
        "model.score(sumxx, sumyy)"
      ],
      "execution_count": null,
      "outputs": [
        {
          "output_type": "execute_result",
          "data": {
            "text/plain": [
              "0.9722222222222222"
            ]
          },
          "metadata": {
            "tags": []
          },
          "execution_count": 291
        }
      ]
    },
    {
      "cell_type": "code",
      "metadata": {
        "id": "pVbzp95R2CCd"
      },
      "source": [
        "from sklearn.metrics import confusion_matrix, classification_report\r\n",
        "np.set_printoptions(threshold=10000)\r\n",
        "cm = confusion_matrix(sumyy, model.predict(sumxx))\r\n",
        "np.savetxt('confusion_matrix.txt', cm, fmt='%2d')\r\n",
        "#cm"
      ],
      "execution_count": null,
      "outputs": []
    },
    {
      "cell_type": "code",
      "metadata": {
        "colab": {
          "base_uri": "https://localhost:8080/",
          "height": 284
        },
        "id": "hedGefvW2Ew4",
        "outputId": "de6b4ec4-2ddc-4060-8fa8-35db62ca5932"
      },
      "source": [
        "plt.imshow(cm)\r\n",
        "plt.colorbar()"
      ],
      "execution_count": null,
      "outputs": [
        {
          "output_type": "execute_result",
          "data": {
            "text/plain": [
              "<matplotlib.colorbar.Colorbar at 0x7f2707dc5860>"
            ]
          },
          "metadata": {
            "tags": []
          },
          "execution_count": 287
        },
        {
          "output_type": "display_data",
          "data": {
            "image/png": "[encoded data removed]",
            "text/plain": [
              "<Figure size 432x288 with 2 Axes>"
            ]
          },
          "metadata": {
            "tags": [],
            "needs_background": "light"
          }
        }
      ]
    },
    {
      "cell_type": "code",
      "metadata": {
        "id": "HGNlcDO62Zv3"
      },
      "source": [
        "from sklearn.neural_network import MLPClassifier"
      ],
      "execution_count": null,
      "outputs": []
    },
    {
      "cell_type": "code",
      "metadata": {
        "colab": {
          "base_uri": "https://localhost:8080/",
          "height": 377
        },
        "id": "5KJ7Ga9y2d4v",
        "outputId": "ccd6e832-b17c-4c6b-ba80-52d13bb8fe6d"
      },
      "source": [
        "import requests\r\n",
        "from io import BytesIO\r\n",
        "url = 'https://item.kakaocdn.net/do/5dcb1654f9fe73ffb62e88fcf31505337154249a3890514a43687a85e6b6cc82'\r\n",
        "response = requests.get(url)\r\n",
        "img = Image.open(BytesIO(response.content))\r\n",
        "img"
      ],
      "execution_count": null,
      "outputs": [
        {
          "output_type": "execute_result",
          "data": {
            "image/png": "[encoded data removed]",
            "text/plain": [
              "<PIL.PngImagePlugin.PngImageFile image mode=RGBA size=360x360 at 0x7F270805FB70>"
            ]
          },
          "metadata": {
            "tags": []
          },
          "execution_count": 382
        }
      ]
    },
    {
      "cell_type": "code",
      "metadata": {
        "colab": {
          "base_uri": "https://localhost:8080/"
        },
        "id": "EnNDdu7x7Onl",
        "outputId": "cf070589-1748-4b80-c12b-93788ddf828f"
      },
      "source": [
        "img.rotate(10)\r\n",
        "img.size"
      ],
      "execution_count": null,
      "outputs": [
        {
          "output_type": "execute_result",
          "data": {
            "text/plain": [
              "(360, 360)"
            ]
          },
          "metadata": {
            "tags": []
          },
          "execution_count": 383
        }
      ]
    },
    {
      "cell_type": "code",
      "metadata": {
        "colab": {
          "base_uri": "https://localhost:8080/",
          "height": 286
        },
        "id": "aPixORWk7SEM",
        "outputId": "651bca01-6cd9-449b-aaa0-782d521879c2"
      },
      "source": [
        "arr = np.array(img)\r\n",
        "arr_cut = arr[50:350, 0:300, :]\r\n",
        "plt.imshow(arr)"
      ],
      "execution_count": null,
      "outputs": [
        {
          "output_type": "execute_result",
          "data": {
            "text/plain": [
              "<matplotlib.image.AxesImage at 0x7f270809c5c0>"
            ]
          },
          "metadata": {
            "tags": []
          },
          "execution_count": 384
        },
        {
          "output_type": "display_data",
          "data": {
            "image/png": "[encoded data removed]",
            "text/plain": [
              "<Figure size 432x288 with 1 Axes>"
            ]
          },
          "metadata": {
            "tags": [],
            "needs_background": "light"
          }
        }
      ]
    },
    {
      "cell_type": "code",
      "metadata": {
        "colab": {
          "base_uri": "https://localhost:8080/",
          "height": 317
        },
        "id": "0EcWz3i978ZY",
        "outputId": "69967d11-57e6-4c98-ea0f-d95542bce730"
      },
      "source": [
        "Image.fromarray(arr_cut)"
      ],
      "execution_count": null,
      "outputs": [
        {
          "output_type": "execute_result",
          "data": {
            "image/png": "[encoded data removed]",
            "text/plain": [
              "<PIL.Image.Image image mode=RGBA size=300x300 at 0x7F270AAA8048>"
            ]
          },
          "metadata": {
            "tags": []
          },
          "execution_count": 313
        }
      ]
    },
    {
      "cell_type": "code",
      "metadata": {
        "colab": {
          "base_uri": "https://localhost:8080/",
          "height": 117
        },
        "id": "_NRf1McD8SSg",
        "outputId": "d4126a27-6e9d-400a-a31d-6214c49831f5"
      },
      "source": [
        "img_small = img.resize((100,100))\r\n",
        "img_small"
      ],
      "execution_count": null,
      "outputs": [
        {
          "output_type": "execute_result",
          "data": {
            "image/png": "[encoded data removed]",
            "text/plain": [
              "<PIL.Image.Image image mode=RGBA size=100x100 at 0x7F27080E25F8>"
            ]
          },
          "metadata": {
            "tags": []
          },
          "execution_count": 385
        }
      ]
    },
    {
      "cell_type": "code",
      "metadata": {
        "colab": {
          "base_uri": "https://localhost:8080/",
          "height": 377
        },
        "id": "Z8y31GhW9D_K",
        "outputId": "45ab7637-b254-4adc-b6e7-7e78b8875b27"
      },
      "source": [
        "img_small = img.resize((100,100))\r\n",
        "blk = np.zeros(arr.shape, np.uint8)\r\n",
        "blk[10:110, 10:110] = np.array(img_small)\r\n",
        "\r\n",
        "Image.fromarray(blk[:,:,0])"
      ],
      "execution_count": null,
      "outputs": [
        {
          "output_type": "execute_result",
          "data": {
            "image/png": "[encoded data removed]",
            "text/plain": [
              "<PIL.Image.Image image mode=L size=360x360 at 0x7F2708077A90>"
            ]
          },
          "metadata": {
            "tags": []
          },
          "execution_count": 391
        }
      ]
    },
    {
      "cell_type": "code",
      "metadata": {
        "colab": {
          "base_uri": "https://localhost:8080/",
          "height": 377
        },
        "id": "0Y-qBDX1-ABS",
        "outputId": "6ea37fcc-832c-4ece-d5ad-cd587eb1b0e2"
      },
      "source": [
        "Image.fromarray(arr[::-1,:,:])"
      ],
      "execution_count": null,
      "outputs": [
        {
          "output_type": "execute_result",
          "data": {
            "image/png": "[encoded data removed]",
            "text/plain": [
              "<PIL.Image.Image image mode=RGBA size=360x360 at 0x7F2707D7DDA0>"
            ]
          },
          "metadata": {
            "tags": []
          },
          "execution_count": 359
        }
      ]
    },
    {
      "cell_type": "code",
      "metadata": {
        "colab": {
          "base_uri": "https://localhost:8080/",
          "height": 377
        },
        "id": "1CBa8aKQ_zQn",
        "outputId": "884f5b00-230a-42a3-ccce-2e1718521952"
      },
      "source": [
        "Image.fromarray(arr[:,::-1,:])"
      ],
      "execution_count": null,
      "outputs": [
        {
          "output_type": "execute_result",
          "data": {
            "image/png": "[encoded data removed]",
            "text/plain": [
              "<PIL.Image.Image image mode=RGBA size=360x360 at 0x7F2707D23B70>"
            ]
          },
          "metadata": {
            "tags": []
          },
          "execution_count": 360
        }
      ]
    },
    {
      "cell_type": "markdown",
      "metadata": {
        "id": "pXrbH5LgAPQU"
      },
      "source": [
        "# 회전, 확대, 축소하여 성능 높이기"
      ]
    },
    {
      "cell_type": "code",
      "metadata": {
        "colab": {
          "base_uri": "https://localhost:8080/"
        },
        "id": "GiNPLF79_19W",
        "outputId": "74fb8154-5acc-40c1-9e09-9ea2816f962c"
      },
      "source": [
        "#일반\r\n",
        "\r\n",
        "listx = []\r\n",
        "listy = []\r\n",
        "\r\n",
        "for sample in ds:\r\n",
        "  x = sample['image']\r\n",
        "  y = sample['label']\r\n",
        "\r\n",
        "  listx.append(x.reshape(20,16))\r\n",
        "  listy.append(y)\r\n",
        "listx = np.array(listx)\r\n",
        "listy = np.array(listy)\r\n",
        "listx.shape"
      ],
      "execution_count": null,
      "outputs": [
        {
          "output_type": "execute_result",
          "data": {
            "text/plain": [
              "(1404, 20, 16)"
            ]
          },
          "metadata": {
            "tags": []
          },
          "execution_count": 371
        }
      ]
    },
    {
      "cell_type": "code",
      "metadata": {
        "colab": {
          "base_uri": "https://localhost:8080/",
          "height": 37
        },
        "id": "EknHmVg7_9wp",
        "outputId": "bf97fc3b-55a7-4cfa-9c49-8e6f656a2611"
      },
      "source": [
        "img = Image.fromarray(listx[0]*255)\r\n",
        "img"
      ],
      "execution_count": null,
      "outputs": [
        {
          "output_type": "execute_result",
          "data": {
            "image/png": "[encoded data removed]",
            "text/plain": [
              "<PIL.Image.Image image mode=L size=16x20 at 0x7F2713B2FE10>"
            ]
          },
          "metadata": {
            "tags": []
          },
          "execution_count": 414
        }
      ]
    },
    {
      "cell_type": "code",
      "metadata": {
        "colab": {
          "base_uri": "https://localhost:8080/"
        },
        "id": "xY2ag5kMA7aV",
        "outputId": "6161fb0e-53b1-40ae-ce33-5e177c33c6d1"
      },
      "source": [
        "img.rotate(20)\r\n",
        "bp.shape, listx[0].shape"
      ],
      "execution_count": null,
      "outputs": [
        {
          "output_type": "execute_result",
          "data": {
            "text/plain": [
              "((10, 8), (20, 16))"
            ]
          },
          "metadata": {
            "tags": []
          },
          "execution_count": 415
        }
      ]
    },
    {
      "cell_type": "code",
      "metadata": {
        "colab": {
          "base_uri": "https://localhost:8080/"
        },
        "id": "rDnvWAmYA-bd",
        "outputId": "8fd37443-0dd9-46db-c969-f21f6144c8bd"
      },
      "source": [
        "bp = listx[0][:10,:8]\r\n",
        "bimg = Image.fromarray(bp*255)\r\n",
        "bimg.resize(img.size)\r\n",
        "bimg = np.array(bimg)\r\n",
        "bimg"
      ],
      "execution_count": null,
      "outputs": [
        {
          "output_type": "execute_result",
          "data": {
            "text/plain": [
              "array([[  0,   0,   0,   0,   0,   0,   0,   0],\n",
              "       [  0,   0,   0,   0,   0,   0,   0,   0],\n",
              "       [255, 255, 255,   0,   0,   0,   0,   0],\n",
              "       [255, 255, 255, 255,   0,   0,   0,   0],\n",
              "       [255, 255, 255, 255, 255,   0,   0,   0],\n",
              "       [  0,   0, 255, 255, 255, 255, 255,   0],\n",
              "       [  0,   0,   0, 255, 255, 255, 255, 255],\n",
              "       [  0,   0,   0,   0, 255, 255, 255, 255],\n",
              "       [  0,   0,   0,   0,   0, 255, 255, 255],\n",
              "       [  0,   0,   0,   0,   0,   0, 255, 255]], dtype=uint8)"
            ]
          },
          "metadata": {
            "tags": []
          },
          "execution_count": 419
        }
      ]
    },
    {
      "cell_type": "code",
      "metadata": {
        "colab": {
          "base_uri": "https://localhost:8080/",
          "height": 37
        },
        "id": "-Wo1wuFmEAzd",
        "outputId": "bd74fb29-f433-4c61-dde8-804f5f4b8246"
      },
      "source": [
        "# 회전\r\n",
        "\r\n",
        "for i in listx:\r\n",
        "  a = Image.fromarray(i)\r\n",
        "  break"
      ],
      "execution_count": null,
      "outputs": [
        {
          "output_type": "execute_result",
          "data": {
            "image/png": "[encoded data removed]",
            "text/plain": [
              "<PIL.Image.Image image mode=L size=16x20 at 0x7F27081CF400>"
            ]
          },
          "metadata": {
            "tags": []
          },
          "execution_count": 423
        }
      ]
    }
  ]
}