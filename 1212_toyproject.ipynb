{
  "nbformat": 4,
  "nbformat_minor": 0,
  "metadata": {
    "colab": {
      "name": "1212_toyproject.ipynb",
      "provenance": [],
      "collapsed_sections": [],
      "toc_visible": true,
      "authorship_tag": "ABX9TyPEyphNryoinybwyfx13J16",
      "include_colab_link": true
    },
    "kernelspec": {
      "name": "python3",
      "display_name": "Python 3"
    }
  },
  "cells": [
    {
      "cell_type": "markdown",
      "metadata": {
        "id": "view-in-github",
        "colab_type": "text"
      },
      "source": [
        "<a href=\"https://colab.research.google.com/github/tnthdrhks1/knu_machine_learning/blob/main/1212_toyproject.ipynb\" target=\"_parent\"><img src=\"https://colab.research.google.com/assets/colab-badge.svg\" alt=\"Open In Colab\"/></a>"
      ]
    },
    {
      "cell_type": "code",
      "metadata": {
        "id": "DSMowy_1U_yW"
      },
      "source": [
        "import numpy as np\r\n",
        "import pandas as pd\r\n",
        "import tensorflow_datasets as tfds\r\n",
        "import matplotlib.pyplot as plt\r\n",
        "import matplotlib\r\n",
        "from sklearn.linear_model import SGDClassifier\r\n",
        "from sklearn.metrics import confusion_matrix, classification_report\r\n",
        "from PIL import Image\r\n",
        "from sklearn.neural_network import MLPClassifier\r\n",
        "import requests\r\n",
        "from io import BytesIO\r\n",
        "from sklearn.model_selection import train_test_split"
      ],
      "execution_count": null,
      "outputs": []
    },
    {
      "cell_type": "code",
      "metadata": {
        "id": "4zDXPDkEVPRB"
      },
      "source": [
        "import tensorflow as tf\r\n",
        "from tensorflow import keras"
      ],
      "execution_count": null,
      "outputs": []
    },
    {
      "cell_type": "markdown",
      "metadata": {
        "id": "b00ChgivVZuC"
      },
      "source": [
        "# fashion mnist 조지기\r\n",
        "- 데이터 다운\r\n",
        "- 이미지와 라벨 클래스 확인\r\n",
        "- 학습데이터/ 테스트데이터 분리\r\n",
        "- 데이터 증가\r\n",
        "  - 회전\r\n",
        "  - 줌인\r\n",
        "  - 이동\r\n",
        "- 학습, 성능 테스트\r\n",
        "  - 모델 선택\r\n",
        "- 틀린 샘플 확인"
      ]
    },
    {
      "cell_type": "markdown",
      "metadata": {
        "id": "w0fKEqgibBoJ"
      },
      "source": [
        "# 기본\r\n",
        "- SGDClassifier = (0.8301492537313433, 0.7683333333333333)\r\n",
        "- MLPClassifier = (0.883955223880597, 0.8163636363636364)"
      ]
    },
    {
      "cell_type": "code",
      "metadata": {
        "colab": {
          "base_uri": "https://localhost:8080/"
        },
        "id": "kPp_87zjVzAq",
        "outputId": "fde14d2a-b42b-4d21-e7ce-1f55819bef2a"
      },
      "source": [
        "fashion_mnist = keras.datasets.fashion_mnist\r\n",
        "\r\n",
        "(train_images, train_labels), (test_images, test_labels) = fashion_mnist.load_data()"
      ],
      "execution_count": null,
      "outputs": [
        {
          "output_type": "stream",
          "text": [
            "Downloading data from https://storage.googleapis.com/tensorflow/tf-keras-datasets/train-labels-idx1-ubyte.gz\n",
            "32768/29515 [=================================] - 0s 0us/step\n",
            "Downloading data from https://storage.googleapis.com/tensorflow/tf-keras-datasets/train-images-idx3-ubyte.gz\n",
            "26427392/26421880 [==============================] - 0s 0us/step\n",
            "Downloading data from https://storage.googleapis.com/tensorflow/tf-keras-datasets/t10k-labels-idx1-ubyte.gz\n",
            "8192/5148 [===============================================] - 0s 0us/step\n",
            "Downloading data from https://storage.googleapis.com/tensorflow/tf-keras-datasets/t10k-images-idx3-ubyte.gz\n",
            "4423680/4422102 [==============================] - 0s 0us/step\n"
          ],
          "name": "stdout"
        }
      ]
    },
    {
      "cell_type": "code",
      "metadata": {
        "colab": {
          "base_uri": "https://localhost:8080/"
        },
        "id": "BuIldPlOV0nc",
        "outputId": "38ad070a-427f-43fe-c1a1-e1d27109da4b"
      },
      "source": [
        "train_images.shape, train_labels.shape, test_images.shape, test_labels.shape # 트레인 6만개, 테스트 1만개"
      ],
      "execution_count": null,
      "outputs": [
        {
          "output_type": "execute_result",
          "data": {
            "text/plain": [
              "((60000, 28, 28), (60000,), (10000, 28, 28), (10000,))"
            ]
          },
          "metadata": {
            "tags": []
          },
          "execution_count": 10
        }
      ]
    },
    {
      "cell_type": "code",
      "metadata": {
        "colab": {
          "base_uri": "https://localhost:8080/",
          "height": 282
        },
        "id": "p2Y-7sdGWe3l",
        "outputId": "6e2ddc81-7fec-40ff-b920-0e56da7b3cda"
      },
      "source": [
        "plt.imshow(train_images[0])"
      ],
      "execution_count": null,
      "outputs": [
        {
          "output_type": "execute_result",
          "data": {
            "text/plain": [
              "<matplotlib.image.AxesImage at 0x7f5708d08ba8>"
            ]
          },
          "metadata": {
            "tags": []
          },
          "execution_count": 15
        },
        {
          "output_type": "display_data",
          "data": {
            "image/png": "[encoded data removed]",
            "text/plain": [
              "<Figure size 432x288 with 1 Axes>"
            ]
          },
          "metadata": {
            "tags": [],
            "needs_background": "light"
          }
        }
      ]
    },
    {
      "cell_type": "code",
      "metadata": {
        "colab": {
          "base_uri": "https://localhost:8080/"
        },
        "id": "5tKkA6RIXP3z",
        "outputId": "4cb4ae1b-3d1e-4b8d-b3fb-f98b11225ba8"
      },
      "source": [
        "Image.fromarray(train_images[0]).size # 28 * 28 사이즈"
      ],
      "execution_count": null,
      "outputs": [
        {
          "output_type": "execute_result",
          "data": {
            "text/plain": [
              "(28, 28)"
            ]
          },
          "metadata": {
            "tags": []
          },
          "execution_count": 18
        }
      ]
    },
    {
      "cell_type": "markdown",
      "metadata": {
        "id": "4t5MnpDMWsBX"
      },
      "source": [
        "1. 기본, 데이터 증가 .. 이런 식으로 진행\r\n",
        "2. x_train 을 사진으로 변환후 다시 리스트로 변환후 진행 (데이터 증가시 편함)\r\n",
        "3. "
      ]
    },
    {
      "cell_type": "code",
      "metadata": {
        "id": "96eYLgA0W-j4"
      },
      "source": [
        "# 트레인 데이터 생성\r\n",
        "\r\n",
        "listx = []\r\n",
        "a = 0\r\n",
        "for i in train_images[:20000]:\r\n",
        "  img = Image.fromarray(i)\r\n",
        "  img = np.array(img)\r\n",
        "  listx.append(img)\r\n",
        "\r\n",
        "listx = np.array(listx).reshape(-1,28*28)\r\n",
        "listy = train_labels[:20000]"
      ],
      "execution_count": null,
      "outputs": []
    },
    {
      "cell_type": "code",
      "metadata": {
        "colab": {
          "base_uri": "https://localhost:8080/"
        },
        "id": "fWt8x1-MXse9",
        "outputId": "29c6a793-9d57-4ee9-b3e3-efa1daa30341"
      },
      "source": [
        "listx.shape, listy.shape"
      ],
      "execution_count": null,
      "outputs": [
        {
          "output_type": "execute_result",
          "data": {
            "text/plain": [
              "((20000, 784), (20000,))"
            ]
          },
          "metadata": {
            "tags": []
          },
          "execution_count": 67
        }
      ]
    },
    {
      "cell_type": "code",
      "metadata": {
        "id": "QgX9RwSpaiOT"
      },
      "source": [
        "X_train, X_test, y_train, y_test = train_test_split(listx, listy, test_size=0.33, random_state=42)"
      ],
      "execution_count": null,
      "outputs": []
    },
    {
      "cell_type": "code",
      "metadata": {
        "colab": {
          "base_uri": "https://localhost:8080/"
        },
        "id": "HQPULg05a9Xa",
        "outputId": "77596a66-69f5-46d7-feec-f7ebb3a9f40c"
      },
      "source": [
        "X_train.shape, X_test.shape, y_train.shape, y_test.shape"
      ],
      "execution_count": null,
      "outputs": [
        {
          "output_type": "execute_result",
          "data": {
            "text/plain": [
              "((13400, 784), (6600, 784), (13400,), (6600,))"
            ]
          },
          "metadata": {
            "tags": []
          },
          "execution_count": 71
        }
      ]
    },
    {
      "cell_type": "code",
      "metadata": {
        "id": "KmYCArewX2y5"
      },
      "source": [
        "model = MLPClassifier().fit(X_train, y_train)"
      ],
      "execution_count": null,
      "outputs": []
    },
    {
      "cell_type": "code",
      "metadata": {
        "colab": {
          "base_uri": "https://localhost:8080/"
        },
        "id": "MzL4r76GY9hc",
        "outputId": "86b5ebb1-8b06-4424-a80e-b4980506f68f"
      },
      "source": [
        "model.score(X_train,y_train), model.score(X_test,y_test)"
      ],
      "execution_count": null,
      "outputs": [
        {
          "output_type": "execute_result",
          "data": {
            "text/plain": [
              "(0.883955223880597, 0.8163636363636364)"
            ]
          },
          "metadata": {
            "tags": []
          },
          "execution_count": 105
        }
      ]
    },
    {
      "cell_type": "code",
      "metadata": {
        "colab": {
          "base_uri": "https://localhost:8080/",
          "height": 282
        },
        "id": "RVOqY4Cdc1kx",
        "outputId": "299b3737-7a6c-4d14-8622-624aa313ff27"
      },
      "source": [
        "np.set_printoptions(threshold=10000)\r\n",
        "cm = confusion_matrix(y_train, model.predict(X_train))\r\n",
        "np.savetxt('confusion_matrix.txt', cm, fmt='%2d')\r\n",
        "plt.imshow(cm)\r\n",
        "plt.colorbar() #class6 오류 많음"
      ],
      "execution_count": null,
      "outputs": [
        {
          "output_type": "execute_result",
          "data": {
            "text/plain": [
              "<matplotlib.colorbar.Colorbar at 0x7f5703f91eb8>"
            ]
          },
          "metadata": {
            "tags": []
          },
          "execution_count": 136
        },
        {
          "output_type": "display_data",
          "data": {
            "image/png": "[encoded data removed]",
            "text/plain": [
              "<Figure size 432x288 with 2 Axes>"
            ]
          },
          "metadata": {
            "tags": [],
            "needs_background": "light"
          }
        }
      ]
    },
    {
      "cell_type": "code",
      "metadata": {
        "colab": {
          "base_uri": "https://localhost:8080/",
          "height": 282
        },
        "id": "ddijY_Lvc7ES",
        "outputId": "a3471dfc-5e32-4c20-d653-5a9662b11106"
      },
      "source": [
        "plt.imshow(cm)\r\n",
        "plt.colorbar() #class6 오류 많음"
      ],
      "execution_count": null,
      "outputs": [
        {
          "output_type": "execute_result",
          "data": {
            "text/plain": [
              "<matplotlib.colorbar.Colorbar at 0x7f5703f1d940>"
            ]
          },
          "metadata": {
            "tags": []
          },
          "execution_count": 95
        },
        {
          "output_type": "display_data",
          "data": {
            "image/png": "[encoded data removed]",
            "text/plain": [
              "<Figure size 432x288 with 2 Axes>"
            ]
          },
          "metadata": {
            "tags": [],
            "needs_background": "light"
          }
        }
      ]
    },
    {
      "cell_type": "code",
      "metadata": {
        "colab": {
          "base_uri": "https://localhost:8080/",
          "height": 94
        },
        "id": "LDHfeKTUb2us",
        "outputId": "e94f9c2c-6eb5-4726-d706-6c6d5edcf18b"
      },
      "source": [
        "sampleimg = train_images[30:60]\r\n",
        "sampleimg.shape\r\n",
        "\r\n",
        "sampleimg = sampleimg.transpose(1,0,2).reshape(28,30*28)\r\n",
        "plt.figure(figsize = (20,20))\r\n",
        "plt.imshow(sampleimg)"
      ],
      "execution_count": null,
      "outputs": [
        {
          "output_type": "execute_result",
          "data": {
            "text/plain": [
              "<matplotlib.image.AxesImage at 0x7f5703f91080>"
            ]
          },
          "metadata": {
            "tags": []
          },
          "execution_count": 93
        },
        {
          "output_type": "display_data",
          "data": {
            "image/png": "[encoded data removed]",
            "text/plain": [
              "<Figure size 1440x1440 with 1 Axes>"
            ]
          },
          "metadata": {
            "tags": [],
            "needs_background": "light"
          }
        }
      ]
    },
    {
      "cell_type": "markdown",
      "metadata": {
        "id": "i3Wu_tO8cZmv"
      },
      "source": [
        "# 이미지 회전 (20도)\r\n",
        "- SDG = (0.8623134328358208, 0.7971212121212121)\r\n",
        "- MLP = (0.889179104477612, 0.8227272727272728)\r\n"
      ]
    },
    {
      "cell_type": "code",
      "metadata": {
        "id": "TG8HgPZccYkY"
      },
      "source": [
        "X = []\r\n",
        "for i in listx:\r\n",
        "  img = Image.fromarray(i.reshape(28,28))\r\n",
        "  img_rot = img.rotate(20)\r\n",
        "  img_rot = np.array(img_rot)\r\n",
        "  X.append(img_rot)\r\n",
        "X = np.array(X).reshape(-1,28*28)"
      ],
      "execution_count": null,
      "outputs": []
    },
    {
      "cell_type": "code",
      "metadata": {
        "colab": {
          "base_uri": "https://localhost:8080/"
        },
        "id": "kyyNoUm5fUAH",
        "outputId": "6dbbdc5d-d01f-43af-8bda-28d247a0e7b4"
      },
      "source": [
        "X.shape"
      ],
      "execution_count": null,
      "outputs": [
        {
          "output_type": "execute_result",
          "data": {
            "text/plain": [
              "(20000, 784)"
            ]
          },
          "metadata": {
            "tags": []
          },
          "execution_count": 112
        }
      ]
    },
    {
      "cell_type": "code",
      "metadata": {
        "colab": {
          "base_uri": "https://localhost:8080/",
          "height": 45
        },
        "id": "nkb4LBRvd9Ly",
        "outputId": "159511e8-e085-4678-884c-a0461b89332b"
      },
      "source": [
        "img = Image.fromarray(listx[0].reshape(28,28))\r\n",
        "img_rot = img.rotate(20)\r\n",
        "img_rot"
      ],
      "execution_count": null,
      "outputs": [
        {
          "output_type": "execute_result",
          "data": {
            "image/png": "[encoded data removed]",
            "text/plain": [
              "<PIL.Image.Image image mode=L size=28x28 at 0x7F5703E725C0>"
            ]
          },
          "metadata": {
            "tags": []
          },
          "execution_count": 107
        }
      ]
    },
    {
      "cell_type": "code",
      "metadata": {
        "colab": {
          "base_uri": "https://localhost:8080/"
        },
        "id": "ZX8rcb5SfLA1",
        "outputId": "73a48069-6e2e-4d8c-d65d-331c55371094"
      },
      "source": [
        "X_train, X_test, y_train, y_test = train_test_split(X, listy, test_size=0.33, random_state=42)\r\n",
        "X_train.shape, X_test.shape, y_train.shape, y_test.shape"
      ],
      "execution_count": null,
      "outputs": [
        {
          "output_type": "execute_result",
          "data": {
            "text/plain": [
              "((13400, 784), (6600, 784), (13400,), (6600,))"
            ]
          },
          "metadata": {
            "tags": []
          },
          "execution_count": 114
        }
      ]
    },
    {
      "cell_type": "code",
      "metadata": {
        "id": "CavsNEbUfc2K"
      },
      "source": [
        "model = MLPClassifier().fit(X_train, y_train)"
      ],
      "execution_count": null,
      "outputs": []
    },
    {
      "cell_type": "code",
      "metadata": {
        "colab": {
          "base_uri": "https://localhost:8080/"
        },
        "id": "QaXSCoN8fj9d",
        "outputId": "10ac0b71-2c0a-4d8a-8418-de2ff715a9be"
      },
      "source": [
        "model.score(X_train,y_train), model.score(X_test,y_test)"
      ],
      "execution_count": null,
      "outputs": [
        {
          "output_type": "execute_result",
          "data": {
            "text/plain": [
              "(0.889179104477612, 0.8227272727272728)"
            ]
          },
          "metadata": {
            "tags": []
          },
          "execution_count": 118
        }
      ]
    },
    {
      "cell_type": "code",
      "metadata": {
        "colab": {
          "base_uri": "https://localhost:8080/",
          "height": 282
        },
        "id": "T3AUYySGohOX",
        "outputId": "999fe231-3a25-404e-c774-ea47a1516a3d"
      },
      "source": [
        "np.set_printoptions(threshold=10000)\r\n",
        "cm = confusion_matrix(y_train, model.predict(X_train))\r\n",
        "np.savetxt('confusion_matrix.txt', cm, fmt='%2d')\r\n",
        "plt.imshow(cm)\r\n",
        "plt.colorbar() #class6 오류 많음"
      ],
      "execution_count": null,
      "outputs": [
        {
          "output_type": "execute_result",
          "data": {
            "text/plain": [
              "<matplotlib.colorbar.Colorbar at 0x7f57083765f8>"
            ]
          },
          "metadata": {
            "tags": []
          },
          "execution_count": 137
        },
        {
          "output_type": "display_data",
          "data": {
            "image/png": "[encoded data removed]",
            "text/plain": [
              "<Figure size 432x288 with 2 Axes>"
            ]
          },
          "metadata": {
            "tags": [],
            "needs_background": "light"
          }
        }
      ]
    },
    {
      "cell_type": "markdown",
      "metadata": {
        "id": "kA-17avsnM88"
      },
      "source": [
        "# 이미지 축소 28X28 -> 14X14\r\n",
        "- SGD = (0.79, 0.7733333333333333)\r\n",
        "- MLP = (0.9177611940298508, 0.8503030303030303)\r\n"
      ]
    },
    {
      "cell_type": "code",
      "metadata": {
        "id": "bmfAiU-8nPBH"
      },
      "source": [
        "X = []\r\n",
        "for i in listx:\r\n",
        "  img = Image.fromarray(i.reshape(28,28))\r\n",
        "  img_rot = img.resize((14,14))\r\n",
        "  img_rot = np.array(img_rot)\r\n",
        "  X.append(img_rot)\r\n",
        "\r\n",
        "X = np.array(X).reshape(-1,14*14)"
      ],
      "execution_count": null,
      "outputs": []
    },
    {
      "cell_type": "code",
      "metadata": {
        "colab": {
          "base_uri": "https://localhost:8080/"
        },
        "id": "T3gUwPpJncxo",
        "outputId": "3c6aacb7-deff-408e-ce7c-24abc79dbfed"
      },
      "source": [
        "X.shape"
      ],
      "execution_count": null,
      "outputs": [
        {
          "output_type": "execute_result",
          "data": {
            "text/plain": [
              "(20000, 196)"
            ]
          },
          "metadata": {
            "tags": []
          },
          "execution_count": 130
        }
      ]
    },
    {
      "cell_type": "code",
      "metadata": {
        "colab": {
          "base_uri": "https://localhost:8080/"
        },
        "id": "vtOBXuU8nYld",
        "outputId": "7f4873bd-57a1-4a1d-bca4-0f668d15d671"
      },
      "source": [
        "X_train, X_test, y_train, y_test = train_test_split(X, listy, test_size=0.33, random_state=42)\r\n",
        "X_train.shape, X_test.shape, y_train.shape, y_test.shape"
      ],
      "execution_count": null,
      "outputs": [
        {
          "output_type": "execute_result",
          "data": {
            "text/plain": [
              "((13400, 196), (6600, 196), (13400,), (6600,))"
            ]
          },
          "metadata": {
            "tags": []
          },
          "execution_count": 131
        }
      ]
    },
    {
      "cell_type": "code",
      "metadata": {
        "id": "fgQULmlunwD1"
      },
      "source": [
        "model = MLPClassifier().fit(X_train, y_train)"
      ],
      "execution_count": null,
      "outputs": []
    },
    {
      "cell_type": "code",
      "metadata": {
        "colab": {
          "base_uri": "https://localhost:8080/"
        },
        "id": "51WeTU41nyxG",
        "outputId": "5ad3e748-31ad-4d79-f349-934f1032edc8"
      },
      "source": [
        "model.score(X_train,y_train), model.score(X_test,y_test)"
      ],
      "execution_count": null,
      "outputs": [
        {
          "output_type": "execute_result",
          "data": {
            "text/plain": [
              "(0.9166417910447762, 0.8406060606060606)"
            ]
          },
          "metadata": {
            "tags": []
          },
          "execution_count": 140
        }
      ]
    },
    {
      "cell_type": "code",
      "metadata": {
        "colab": {
          "base_uri": "https://localhost:8080/",
          "height": 282
        },
        "id": "byJofP69ojiC",
        "outputId": "91c8efed-7aee-4783-88fe-4399efd20198"
      },
      "source": [
        "np.set_printoptions(threshold=10000)\r\n",
        "cm = confusion_matrix(y_train, model.predict(X_train))\r\n",
        "np.savetxt('confusion_matrix.txt', cm, fmt='%2d')\r\n",
        "plt.imshow(cm)\r\n",
        "plt.colorbar() #class6 오류 많음"
      ],
      "execution_count": null,
      "outputs": [
        {
          "output_type": "execute_result",
          "data": {
            "text/plain": [
              "<matplotlib.colorbar.Colorbar at 0x7f5708347a20>"
            ]
          },
          "metadata": {
            "tags": []
          },
          "execution_count": 141
        },
        {
          "output_type": "display_data",
          "data": {
            "image/png": "[encoded data removed]",
            "text/plain": [
              "<Figure size 432x288 with 2 Axes>"
            ]
          },
          "metadata": {
            "tags": [],
            "needs_background": "light"
          }
        }
      ]
    },
    {
      "cell_type": "markdown",
      "metadata": {
        "id": "K5Wcqv2Qow76"
      },
      "source": [
        "# 합치기\r\n",
        "- 기본 + 회전 = (0.8773507462686567, 0.8295454545454546) \r\n",
        "- 기본 + 축소 = (0.9325746268656716, 0.8404545454545455)\r\n",
        "- 회전 + 축소 = (0.9127611940298508, 0.8354545454545454)\r\n",
        "- 기본 + 회전 + 축소 = (0.8972636815920398, 0.8269191919191919)"
      ]
    },
    {
      "cell_type": "markdown",
      "metadata": {
        "id": "pQz5NMSmrn-h"
      },
      "source": [
        "기본 + 회전 "
      ]
    },
    {
      "cell_type": "code",
      "metadata": {
        "id": "KHOt-Fcgo6ID"
      },
      "source": [
        "# 트레인 데이터 생성\r\n",
        "\r\n",
        "listx = []\r\n",
        "a = 0\r\n",
        "for i in train_images[:20000]:\r\n",
        "  img = Image.fromarray(i) #기본 시작\r\n",
        "  img = np.array(img)\r\n",
        "  listx.append(img) #기본 끝\r\n",
        "\r\n",
        "for i in train_images[:20000]:\r\n",
        "  img = Image.fromarray(i.reshape(28,28)) # 회전시작\r\n",
        "  img_rot = img.rotate(20)\r\n",
        "  img_rot = np.array(img_rot) # 회전끝\r\n",
        "  listx.append(img_rot)\r\n",
        "\r\n",
        "listx = np.array(listx).reshape(-1,28*28)\r\n",
        "listy = train_labels[:20000]"
      ],
      "execution_count": null,
      "outputs": []
    },
    {
      "cell_type": "code",
      "metadata": {
        "colab": {
          "base_uri": "https://localhost:8080/"
        },
        "id": "Liw0U67LpbYo",
        "outputId": "9698d0c2-f518-4e3d-e075-696101c66a39"
      },
      "source": [
        "listy = np.concatenate((listy,listy),axis=0)\r\n",
        "listx.shape, listy.shape"
      ],
      "execution_count": null,
      "outputs": [
        {
          "output_type": "execute_result",
          "data": {
            "text/plain": [
              "((20000, 784), (20000, 28, 28), (40000,))"
            ]
          },
          "metadata": {
            "tags": []
          },
          "execution_count": 182
        }
      ]
    },
    {
      "cell_type": "code",
      "metadata": {
        "colab": {
          "base_uri": "https://localhost:8080/"
        },
        "id": "XRyTTBwHphRi",
        "outputId": "42553209-9759-4ec6-cf6a-0977ce91f99c"
      },
      "source": [
        "X_train, X_test, y_train, y_test = train_test_split(listx, listy, test_size=0.33, random_state=42)\r\n",
        "X_train.shape, X_test.shape, y_train.shape, y_test.shape"
      ],
      "execution_count": null,
      "outputs": [
        {
          "output_type": "execute_result",
          "data": {
            "text/plain": [
              "((26800, 784), (13200, 784), (26800,), (13200,))"
            ]
          },
          "metadata": {
            "tags": []
          },
          "execution_count": 166
        }
      ]
    },
    {
      "cell_type": "code",
      "metadata": {
        "id": "BfuDi18apl4W"
      },
      "source": [
        "model = MLPClassifier().fit(X_train, y_train) ####"
      ],
      "execution_count": null,
      "outputs": []
    },
    {
      "cell_type": "code",
      "metadata": {
        "colab": {
          "base_uri": "https://localhost:8080/"
        },
        "id": "wxWfxIaBpnzn",
        "outputId": "297a562e-d196-4e63-bd88-3fe911da1ec4"
      },
      "source": [
        "model.score(X_train,y_train), model.score(X_test,y_test)"
      ],
      "execution_count": null,
      "outputs": [
        {
          "output_type": "execute_result",
          "data": {
            "text/plain": [
              "(0.8773507462686567, 0.8295454545454546)"
            ]
          },
          "metadata": {
            "tags": []
          },
          "execution_count": 168
        }
      ]
    },
    {
      "cell_type": "code",
      "metadata": {
        "colab": {
          "base_uri": "https://localhost:8080/",
          "height": 282
        },
        "id": "FhVPMLsOpqSQ",
        "outputId": "23de61c4-eba3-43b2-9201-e85c8441d96b"
      },
      "source": [
        "np.set_printoptions(threshold=10000)\r\n",
        "cm = confusion_matrix(y_train, model.predict(X_train))\r\n",
        "np.savetxt('confusion_matrix.txt', cm, fmt='%2d')\r\n",
        "plt.imshow(cm)\r\n",
        "plt.colorbar() "
      ],
      "execution_count": null,
      "outputs": [
        {
          "output_type": "execute_result",
          "data": {
            "text/plain": [
              "<matplotlib.colorbar.Colorbar at 0x7f57039e83c8>"
            ]
          },
          "metadata": {
            "tags": []
          },
          "execution_count": 169
        },
        {
          "output_type": "display_data",
          "data": {
            "image/png": "[encoded data removed]",
            "text/plain": [
              "<Figure size 432x288 with 2 Axes>"
            ]
          },
          "metadata": {
            "tags": [],
            "needs_background": "light"
          }
        }
      ]
    },
    {
      "cell_type": "markdown",
      "metadata": {
        "id": "NValVvAcrllY"
      },
      "source": [
        "기본 + 축소"
      ]
    },
    {
      "cell_type": "code",
      "metadata": {
        "id": "auM0cEUKrjVC"
      },
      "source": [
        "# 트레인 데이터 생성\r\n",
        "\r\n",
        "listx = []\r\n",
        "listxx = []\r\n",
        "a = 0\r\n",
        "for i in train_images[:20000]:\r\n",
        "  img = Image.fromarray(i) #기본 시작\r\n",
        "  img = np.array(img)\r\n",
        "  listx.append(img) #기본 끝\r\n",
        "\r\n",
        "for i in train_images[:20000]:\r\n",
        "  img = Image.fromarray(i.reshape(28,28))\r\n",
        "  img_rot = img.resize((14,14))\r\n",
        "  img_rot = np.array(img_rot)\r\n",
        "  bg = np.zeros(img.size, np.uint8)#까만 배경\r\n",
        "  bg[14:28, 14:28] = np.array(img_rot)\r\n",
        "  listxx.append(bg)\r\n",
        "\r\n",
        "listx = np.array(listx).reshape(-1,28*28)\r\n",
        "listxx = np.array(listxx).reshape(-1,28*28)\r\n",
        "listy = train_labels[:20000]"
      ],
      "execution_count": null,
      "outputs": []
    },
    {
      "cell_type": "code",
      "metadata": {
        "colab": {
          "base_uri": "https://localhost:8080/"
        },
        "id": "pKx7a8cur6jr",
        "outputId": "82e1cd88-aa58-47b0-d0df-5b2c908af5bd"
      },
      "source": [
        "listy = np.concatenate((listy,listy),axis=0)\r\n",
        "listx = np.concatenate((listx,listxx),axis=0)\r\n",
        "\r\n",
        "listx.shape, listxx.shape, listy.shape"
      ],
      "execution_count": null,
      "outputs": [
        {
          "output_type": "execute_result",
          "data": {
            "text/plain": [
              "((40000, 784), (20000, 784), (40000,))"
            ]
          },
          "metadata": {
            "tags": []
          },
          "execution_count": 197
        }
      ]
    },
    {
      "cell_type": "code",
      "metadata": {
        "colab": {
          "base_uri": "https://localhost:8080/"
        },
        "id": "Y84Abz4lsBjV",
        "outputId": "b7833c49-a43a-4fb8-b4a5-3d2573466117"
      },
      "source": [
        "X_train, X_test, y_train, y_test = train_test_split(listx, listy, test_size=0.33, random_state=42)\r\n",
        "X_train.shape, X_test.shape, y_train.shape, y_test.shape"
      ],
      "execution_count": null,
      "outputs": [
        {
          "output_type": "execute_result",
          "data": {
            "text/plain": [
              "((26800, 784), (13200, 784), (26800,), (13200,))"
            ]
          },
          "metadata": {
            "tags": []
          },
          "execution_count": 198
        }
      ]
    },
    {
      "cell_type": "code",
      "metadata": {
        "colab": {
          "base_uri": "https://localhost:8080/"
        },
        "id": "5G4kljwLsDHX",
        "outputId": "593b1764-6770-4122-b00a-06573642a403"
      },
      "source": [
        "model = MLPClassifier().fit(X_train, y_train) "
      ],
      "execution_count": null,
      "outputs": [
        {
          "output_type": "stream",
          "text": [
            "/usr/local/lib/python3.6/dist-packages/sklearn/neural_network/_multilayer_perceptron.py:571: ConvergenceWarning: Stochastic Optimizer: Maximum iterations (200) reached and the optimization hasn't converged yet.\n",
            "  % self.max_iter, ConvergenceWarning)\n"
          ],
          "name": "stderr"
        }
      ]
    },
    {
      "cell_type": "code",
      "metadata": {
        "colab": {
          "base_uri": "https://localhost:8080/"
        },
        "id": "aY4O6SziumcH",
        "outputId": "cbe6278e-f97c-4259-ec01-67bdb6591ffc"
      },
      "source": [
        "model.score(X_train,y_train), model.score(X_test,y_test)"
      ],
      "execution_count": null,
      "outputs": [
        {
          "output_type": "execute_result",
          "data": {
            "text/plain": [
              "(0.9325746268656716, 0.8404545454545455)"
            ]
          },
          "metadata": {
            "tags": []
          },
          "execution_count": 200
        }
      ]
    },
    {
      "cell_type": "markdown",
      "metadata": {
        "id": "h_yqB4Y3vfHE"
      },
      "source": [
        "회전 + 축소"
      ]
    },
    {
      "cell_type": "code",
      "metadata": {
        "id": "cnzfcwDVvj-Z"
      },
      "source": [
        "# 트레인 데이터 생성\r\n",
        "\r\n",
        "listx = []\r\n",
        "listxx = []\r\n",
        "a = 0\r\n",
        "\r\n",
        "for i in train_images[:20000]:\r\n",
        "  img = Image.fromarray(i.reshape(28,28)) # 회전시작\r\n",
        "  img_rot = img.rotate(20)\r\n",
        "  img_rot = np.array(img_rot) # 회전끝\r\n",
        "  listx.append(img_rot)\r\n",
        "\r\n",
        "for i in train_images[:20000]:\r\n",
        "  img = Image.fromarray(i.reshape(28,28)) #축소시작\r\n",
        "  img_rot = img.resize((14,14))\r\n",
        "  img_rot = np.array(img_rot)\r\n",
        "  bg = np.zeros(img.size, np.uint8)#까만 배경\r\n",
        "  bg[14:28, 14:28] = np.array(img_rot)\r\n",
        "  listx.append(bg) #축소 끝\r\n",
        "\r\n",
        "listx = np.array(listx).reshape(-1,28*28)\r\n",
        "listy = train_labels[:20000]"
      ],
      "execution_count": null,
      "outputs": []
    },
    {
      "cell_type": "code",
      "metadata": {
        "colab": {
          "base_uri": "https://localhost:8080/"
        },
        "id": "vsNqOJor1Jx0",
        "outputId": "9c4c92bf-5561-416a-92c5-7eb1201cf314"
      },
      "source": [
        "listy = np.concatenate((listy, listy, listy), axis=0)\r\n",
        "listx.shape, listy.shape"
      ],
      "execution_count": null,
      "outputs": [
        {
          "output_type": "execute_result",
          "data": {
            "text/plain": [
              "((40000, 784), (120000,))"
            ]
          },
          "metadata": {
            "tags": []
          },
          "execution_count": 206
        }
      ]
    },
    {
      "cell_type": "code",
      "metadata": {
        "colab": {
          "base_uri": "https://localhost:8080/"
        },
        "id": "EBOkQJ441SeV",
        "outputId": "c4e26ece-1fd6-4a04-b9b9-24d8b14fe41b"
      },
      "source": [
        "X_train, X_test, y_train, y_test = train_test_split(listx, listy, test_size=0.33, random_state=42)\r\n",
        "X_train.shape, X_test.shape, y_train.shape, y_test.shape"
      ],
      "execution_count": null,
      "outputs": [
        {
          "output_type": "execute_result",
          "data": {
            "text/plain": [
              "((26800, 784), (13200, 784), (26800,), (13200,))"
            ]
          },
          "metadata": {
            "tags": []
          },
          "execution_count": 203
        }
      ]
    },
    {
      "cell_type": "code",
      "metadata": {
        "id": "HuxDCiF91Xbj"
      },
      "source": [
        "model = MLPClassifier().fit(X_train, y_train) "
      ],
      "execution_count": null,
      "outputs": []
    },
    {
      "cell_type": "code",
      "metadata": {
        "colab": {
          "base_uri": "https://localhost:8080/"
        },
        "id": "kIlNfQSo1Zx8",
        "outputId": "969325de-8923-43c3-9936-a37edb124477"
      },
      "source": [
        "model.score(X_train,y_train), model.score(X_test,y_test)"
      ],
      "execution_count": null,
      "outputs": [
        {
          "output_type": "execute_result",
          "data": {
            "text/plain": [
              "(0.9127611940298508, 0.8354545454545454)"
            ]
          },
          "metadata": {
            "tags": []
          },
          "execution_count": 205
        }
      ]
    },
    {
      "cell_type": "markdown",
      "metadata": {
        "id": "4TlwyL0L2iYX"
      },
      "source": [
        "기본 + 회전 + 축소"
      ]
    },
    {
      "cell_type": "code",
      "metadata": {
        "id": "ox-7S6Yv2lCQ"
      },
      "source": [
        "# 트레인 데이터 생성\r\n",
        "\r\n",
        "listx = []\r\n",
        "listxx = []\r\n",
        "a = 0\r\n",
        "\r\n",
        "for i in train_images[:20000]:\r\n",
        "  img = Image.fromarray(i) #기본 시작\r\n",
        "  img = np.array(img)\r\n",
        "  listx.append(img) #기본 끝\r\n",
        "  \r\n",
        "for i in train_images[:20000]:\r\n",
        "  img = Image.fromarray(i.reshape(28,28)) # 회전시작\r\n",
        "  img_rot = img.rotate(20)\r\n",
        "  img_rot = np.array(img_rot) # 회전끝\r\n",
        "  listx.append(img_rot)\r\n",
        "\r\n",
        "for i in train_images[:20000]:\r\n",
        "  img = Image.fromarray(i.reshape(28,28)) #축소시작\r\n",
        "  img_rot = img.resize((14,14))\r\n",
        "  img_rot = np.array(img_rot)\r\n",
        "  bg = np.zeros(img.size, np.uint8)#까만 배경\r\n",
        "  bg[14:28, 14:28] = np.array(img_rot)\r\n",
        "  listx.append(bg) #축소 끝\r\n",
        "\r\n",
        "listx = np.array(listx).reshape(-1,28*28)\r\n",
        "listy = train_labels[:20000]"
      ],
      "execution_count": null,
      "outputs": []
    },
    {
      "cell_type": "code",
      "metadata": {
        "colab": {
          "base_uri": "https://localhost:8080/"
        },
        "id": "hpKPVqdc45gd",
        "outputId": "4216fabb-71ef-4cdd-b872-f9912f7f0d62"
      },
      "source": [
        "listy = np.concatenate((listy, listy, listy), axis=0)\r\n",
        "listx.shape, listy.shape"
      ],
      "execution_count": null,
      "outputs": [
        {
          "output_type": "execute_result",
          "data": {
            "text/plain": [
              "((60000, 784), (60000,))"
            ]
          },
          "metadata": {
            "tags": []
          },
          "execution_count": 208
        }
      ]
    },
    {
      "cell_type": "code",
      "metadata": {
        "colab": {
          "base_uri": "https://localhost:8080/"
        },
        "id": "r4ZSxeAn47wE",
        "outputId": "9b6a92f1-eb12-47ee-cd8b-db02b2438ff3"
      },
      "source": [
        "X_train, X_test, y_train, y_test = train_test_split(listx, listy, test_size=0.33, random_state=42)\r\n",
        "X_train.shape, X_test.shape, y_train.shape, y_test.shape"
      ],
      "execution_count": null,
      "outputs": [
        {
          "output_type": "execute_result",
          "data": {
            "text/plain": [
              "((40200, 784), (19800, 784), (40200,), (19800,))"
            ]
          },
          "metadata": {
            "tags": []
          },
          "execution_count": 209
        }
      ]
    },
    {
      "cell_type": "code",
      "metadata": {
        "id": "NWZ77Qk54-TH"
      },
      "source": [
        "model = MLPClassifier().fit(X_train, y_train) "
      ],
      "execution_count": null,
      "outputs": []
    },
    {
      "cell_type": "code",
      "metadata": {
        "colab": {
          "base_uri": "https://localhost:8080/"
        },
        "id": "5qJBnFuZ5rPH",
        "outputId": "9cfc6be0-b13a-4a25-e25b-7be7be9f9506"
      },
      "source": [
        "model.score(X_train, y_train), model.score(X_test, y_test)"
      ],
      "execution_count": null,
      "outputs": [
        {
          "output_type": "execute_result",
          "data": {
            "text/plain": [
              "(0.8972636815920398, 0.8269191919191919)"
            ]
          },
          "metadata": {
            "tags": []
          },
          "execution_count": 212
        }
      ]
    }
  ]
}