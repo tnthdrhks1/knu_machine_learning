{
  "nbformat": 4,
  "nbformat_minor": 0,
  "metadata": {
    "colab": {
      "name": "20201107_python_basic.ipynb",
      "provenance": [],
      "collapsed_sections": [
        "WmneHQR_TWUr"
      ],
      "authorship_tag": "ABX9TyMb4U1Pc800sWVy1U0yTc/1",
      "include_colab_link": true
    },
    "kernelspec": {
      "name": "python3",
      "display_name": "Python 3"
    }
  },
  "cells": [
    {
      "cell_type": "markdown",
      "metadata": {
        "id": "view-in-github",
        "colab_type": "text"
      },
      "source": [
        "<a href=\"https://colab.research.google.com/github/tnthdrhks1/knu_machine_learning/blob/main/20201107_python_basic.ipynb\" target=\"_parent\"><img src=\"https://colab.research.google.com/assets/colab-badge.svg\" alt=\"Open In Colab\"/></a>"
      ]
    },
    {
      "cell_type": "code",
      "metadata": {
        "id": "WqkiYc6UQdO8",
        "colab": {
          "base_uri": "https://localhost:8080/"
        },
        "outputId": "2ef73dae-5fe6-49ae-e146-e40831e2f905"
      },
      "source": [
        "a = [0,1,2,3,4]\n",
        "a.index(2) #2가 몇번째에 있는지 알려줌"
      ],
      "execution_count": null,
      "outputs": [
        {
          "output_type": "execute_result",
          "data": {
            "text/plain": [
              "2"
            ]
          },
          "metadata": {
            "tags": []
          },
          "execution_count": 10
        }
      ]
    },
    {
      "cell_type": "markdown",
      "metadata": {
        "id": "WmneHQR_TWUr"
      },
      "source": [
        "# .index  \n",
        "# .append\n",
        "# .extend"
      ]
    },
    {
      "cell_type": "code",
      "metadata": {
        "id": "VJjP27uKTI1F",
        "colab": {
          "base_uri": "https://localhost:8080/"
        },
        "outputId": "1e07d1db-1999-4ffe-e183-0ea5f46429e6"
      },
      "source": [
        "cat = ['bg', 'dog', 'cat', 'human']\n",
        "cat.index(\"cat\")"
      ],
      "execution_count": null,
      "outputs": [
        {
          "output_type": "execute_result",
          "data": {
            "text/plain": [
              "2"
            ]
          },
          "metadata": {
            "tags": []
          },
          "execution_count": 12
        }
      ]
    },
    {
      "cell_type": "code",
      "metadata": {
        "id": "C4xFt48VThXR",
        "colab": {
          "base_uri": "https://localhost:8080/"
        },
        "outputId": "dfdeddef-e08d-441d-9ec3-8b94aab0180c"
      },
      "source": [
        "cat.extend(a)\n",
        "cat"
      ],
      "execution_count": null,
      "outputs": [
        {
          "output_type": "execute_result",
          "data": {
            "text/plain": [
              "['bg',\n",
              " 'dog',\n",
              " 'cat',\n",
              " 'human',\n",
              " 'm',\n",
              " 'e',\n",
              " 'w',\n",
              " 'm',\n",
              " 'e',\n",
              " 'w',\n",
              " 0,\n",
              " 1,\n",
              " 2,\n",
              " 3,\n",
              " 4,\n",
              " 0,\n",
              " 1,\n",
              " 2,\n",
              " 3,\n",
              " 4,\n",
              " 0,\n",
              " 1,\n",
              " 2,\n",
              " 3,\n",
              " 4,\n",
              " 0,\n",
              " 1,\n",
              " 2,\n",
              " 3,\n",
              " 4]"
            ]
          },
          "metadata": {
            "tags": []
          },
          "execution_count": 20
        }
      ]
    },
    {
      "cell_type": "code",
      "metadata": {
        "id": "f5pXpvyVTmQK",
        "colab": {
          "base_uri": "https://localhost:8080/"
        },
        "outputId": "0113b0a7-7eef-4206-b58b-a880e9e5bc1d"
      },
      "source": [
        "cat = [1,2,3]\n",
        "cat.insert(1, \"gohome\")\n",
        "cat"
      ],
      "execution_count": null,
      "outputs": [
        {
          "output_type": "execute_result",
          "data": {
            "text/plain": [
              "[1, 'gohome', 2, 3]"
            ]
          },
          "metadata": {
            "tags": []
          },
          "execution_count": 23
        }
      ]
    },
    {
      "cell_type": "markdown",
      "metadata": {
        "id": "HRSFaCtsUjtH"
      },
      "source": [
        "# 튜플\n",
        "# 리스트와 비슷하지만 수정불가\n"
      ]
    },
    {
      "cell_type": "code",
      "metadata": {
        "id": "Ix2S5Dm6UbiK",
        "colab": {
          "base_uri": "https://localhost:8080/"
        },
        "outputId": "c286e6ae-0325-44f0-c57b-257d2fe164e3"
      },
      "source": [
        "category = (1,2,3)\n",
        "category[0]\n",
        "len(category)\n",
        "vv = list(category)\n",
        "#print(set(vv))\n",
        "\n",
        "a = set(\"hello\")\n",
        "print(a)\n",
        "#튜플 = 상수라고 보면됨, 수정불가"
      ],
      "execution_count": null,
      "outputs": [
        {
          "output_type": "stream",
          "text": [
            "{'e', 'o', 'h', 'l'}\n"
          ],
          "name": "stdout"
        }
      ]
    },
    {
      "cell_type": "code",
      "metadata": {
        "id": "eFgLpGnyVQsR",
        "colab": {
          "base_uri": "https://localhost:8080/"
        },
        "outputId": "216f4eea-e57b-4cf2-f835-c28d413e4c9d"
      },
      "source": [
        "x = [1,2,3,4,1,2,6,8]\n",
        "print(list(x))\n",
        "print(set(x))\n",
        "print(tuple(x))"
      ],
      "execution_count": null,
      "outputs": [
        {
          "output_type": "stream",
          "text": [
            "[1, 2, 3, 4, 1, 2, 6, 8]\n",
            "{1, 2, 3, 4, 6, 8}\n",
            "(1, 2, 3, 4, 1, 2, 6, 8)\n"
          ],
          "name": "stdout"
        }
      ]
    },
    {
      "cell_type": "code",
      "metadata": {
        "id": "AYZr5-zfWTlD",
        "colab": {
          "base_uri": "https://localhost:8080/"
        },
        "outputId": "a21dd483-14bd-4163-a92b-32d74b6cb844"
      },
      "source": [
        "  print(a)\n",
        "  \n",
        "  a.add(\"ㅋㅋ\")\n",
        "  print(a)\n",
        "\n",
        "  a.discard(\"ㅋㅋ\")\n",
        "  print(a)"
      ],
      "execution_count": null,
      "outputs": [
        {
          "output_type": "stream",
          "text": [
            "{'l', 'o', 'h', 'e'}\n",
            "{'l', 'ㅋㅋ', 'o', 'h', 'e'}\n",
            "{'l', 'o', 'h', 'e'}\n"
          ],
          "name": "stdout"
        }
      ]
    },
    {
      "cell_type": "code",
      "metadata": {
        "id": "DUHhqFewWtRw",
        "colab": {
          "base_uri": "https://localhost:8080/"
        },
        "outputId": "fcda05bb-c3b2-4f09-a480-a5ce3154fba0"
      },
      "source": [
        "list1 = [1,2,3]\n",
        "list2 = [3,4,5]\n",
        "\n",
        "#result = [1,2,3,4,5,6]\n",
        "\n",
        "print(list1.extend(list2))"
      ],
      "execution_count": null,
      "outputs": [
        {
          "output_type": "stream",
          "text": [
            "None\n"
          ],
          "name": "stdout"
        }
      ]
    },
    {
      "cell_type": "code",
      "metadata": {
        "id": "s5-8Np75W9g0",
        "colab": {
          "base_uri": "https://localhost:8080/"
        },
        "outputId": "ba25665f-d333-4747-dcf1-f948cd5b6c13"
      },
      "source": [
        "list1 = [1,2,3]\n",
        "list2 = [3,4,5]\n",
        "\n",
        "#result = [1,2,3,4,5,6]\n",
        "\n",
        "# print(list1 + list2)\n",
        "list1.extend(list2)\n",
        "list1\n",
        "set(list1)"
      ],
      "execution_count": null,
      "outputs": [
        {
          "output_type": "execute_result",
          "data": {
            "text/plain": [
              "{1, 2, 3, 4, 5}"
            ]
          },
          "metadata": {
            "tags": []
          },
          "execution_count": 68
        }
      ]
    },
    {
      "cell_type": "code",
      "metadata": {
        "id": "wKy96CG5cZe-",
        "colab": {
          "base_uri": "https://localhost:8080/"
        },
        "outputId": "b7093841-b34d-43ce-df79-09ce310848c4"
      },
      "source": [
        "apple = {\"color\" : \"red\", \"taste\" : \"good\"}\n",
        "print(apple)\n",
        "\n",
        "del apple [\"color\"]\n",
        "apple"
      ],
      "execution_count": null,
      "outputs": [
        {
          "output_type": "stream",
          "text": [
            "{'color': 'red', 'taste': 'good'}\n"
          ],
          "name": "stdout"
        },
        {
          "output_type": "execute_result",
          "data": {
            "text/plain": [
              "{'taste': 'good'}"
            ]
          },
          "metadata": {
            "tags": []
          },
          "execution_count": 74
        }
      ]
    },
    {
      "cell_type": "code",
      "metadata": {
        "id": "qVVxWRhKdDib",
        "colab": {
          "base_uri": "https://localhost:8080/"
        },
        "outputId": "796885ec-ea7c-4747-ab8e-bea8502f8e8f"
      },
      "source": [
        "apple[\"money\"] = \"5000\"\n",
        "apple\n",
        "\n",
        "del apple[\"money\"]\n",
        "apple"
      ],
      "execution_count": null,
      "outputs": [
        {
          "output_type": "execute_result",
          "data": {
            "text/plain": [
              "{'taste': 'good'}"
            ]
          },
          "metadata": {
            "tags": []
          },
          "execution_count": 77
        }
      ]
    },
    {
      "cell_type": "code",
      "metadata": {
        "id": "Z0bd8wqtdIEp",
        "colab": {
          "base_uri": "https://localhost:8080/"
        },
        "outputId": "720d3e82-15ed-431e-dca6-61f064674514"
      },
      "source": [
        "#coco 연습 \n",
        "\n",
        "coco = {'annotation' : [{'id' : 0, 'class' : 'bike'}, {'id' : 0, 'class' : 'person'}], \"image_w\" : 1000, \"image_h\" : 800}\n",
        "\n",
        "#문제1\n",
        "print(coco['image_w'] , coco['image_h'])\n",
        "print(coco['image_w'] * coco['image_h'])\n",
        "\n",
        "print()\n",
        "#a문제2\n",
        "print(coco['annotation'][0]['class'])\n",
        "print(coco['annotation'][1]['class'])"
      ],
      "execution_count": null,
      "outputs": [
        {
          "output_type": "stream",
          "text": [
            "1000 800\n",
            "800000\n",
            "\n",
            "bike\n",
            "person\n"
          ],
          "name": "stdout"
        }
      ]
    },
    {
      "cell_type": "markdown",
      "metadata": {
        "id": "QTBaRKzBhY27"
      },
      "source": [
        "#사람1이 3초에 pull을 하고 5초에 threaten을 8초에 punch를 합니다 \n",
        "#사람2가 3초에 stand을 하고 8초에 punch\n",
        "\n",
        "위 정보를 dict으로 저장\n",
        "키 : per_id, action, time \n"
      ]
    },
    {
      "cell_type": "markdown",
      "metadata": {
        "id": "SkrUEG3bj3ta"
      },
      "source": [
        ""
      ]
    },
    {
      "cell_type": "code",
      "metadata": {
        "id": "X0f-2X_rhG9U",
        "colab": {
          "base_uri": "https://localhost:8080/"
        },
        "outputId": "837f425b-a8a3-48d7-e094-975385a7fd61"
      },
      "source": [
        "dic1 = {'person1' : {'per_id' : 1, 'action' : [{\"act\" : \"pull\", 'time' : '3'}, {\"act\" : \"treaten\",'time' : '5'}, {\"act\" : \"punch\",'time' : '8'}]}, \n",
        "        'person2' : {'per_id' : 2, 'action' : [{\"act\" : \"stand\", 'time' : '3'}, {\"act\" : \"punch\",'time' : '8'}]}}\n",
        "\n",
        "#사람1\n",
        "print(dic1['person1']['action'][0]['time'], dic1['person1']['action'][0]['act'])\n",
        "print(dic1['person1'][\"action\"][1]['time'], dic1['person1'][\"action\"][1]['act'])\n",
        "print(dic1['person1'][\"action\"][2]['time'], dic1['person1'][\"action\"][2]['act'])\n",
        "\n",
        "print(\"\")\n",
        "\n",
        "#사람2\n",
        "print(dic1['person2']['action'][0]['time'], dic1['person2']['action'][0]['act'])\n",
        "print(dic1['person2'][\"action\"][1]['time'], dic1['person2'][\"action\"][1]['act'])"
      ],
      "execution_count": null,
      "outputs": [
        {
          "output_type": "stream",
          "text": [
            "3 pull\n",
            "5 treaten\n",
            "8 punch\n",
            "\n",
            "3 stand\n",
            "8 punch\n"
          ],
          "name": "stdout"
        }
      ]
    },
    {
      "cell_type": "code",
      "metadata": {
        "id": "u8TzCbbUk4xl",
        "colab": {
          "base_uri": "https://localhost:8080/"
        },
        "outputId": "746f63ff-847f-45e4-e373-c9cd1b4c3753"
      },
      "source": [
        "for i in dic1:\n",
        "  print(\"per1 = \" ,i)"
      ],
      "execution_count": null,
      "outputs": [
        {
          "output_type": "stream",
          "text": [
            "per1 =  person1\n",
            "per1 =  person2\n"
          ],
          "name": "stdout"
        }
      ]
    },
    {
      "cell_type": "code",
      "metadata": {
        "id": "UqYtQ6e7rasV",
        "colab": {
          "base_uri": "https://localhost:8080/"
        },
        "outputId": "59a8224d-98e5-4ff9-ef74-16c4ae12d8a7"
      },
      "source": [
        "x = 1000000\n",
        "i = 1\n",
        "\n",
        "while (2**i < x):\n",
        "\n",
        "  print(2**i)\n",
        "  i += 1"
      ],
      "execution_count": null,
      "outputs": [
        {
          "output_type": "stream",
          "text": [
            "2\n",
            "4\n",
            "8\n",
            "16\n",
            "32\n",
            "64\n",
            "128\n",
            "256\n",
            "512\n",
            "1024\n",
            "2048\n",
            "4096\n",
            "8192\n",
            "16384\n",
            "32768\n",
            "65536\n",
            "131072\n",
            "262144\n",
            "524288\n"
          ],
          "name": "stdout"
        }
      ]
    },
    {
      "cell_type": "code",
      "metadata": {
        "id": "XYdNvPx1sQO5",
        "colab": {
          "base_uri": "https://localhost:8080/"
        },
        "outputId": "c8826ef7-6cdd-427e-e540-e3cfa3db4e20"
      },
      "source": [
        "def hello(lee, city = \"kangwon\"):\n",
        "  print(lee)\n",
        "\n",
        "  return lee\n",
        "\n",
        "hello(\"lim\")\n",
        "hello([1,2,3])"
      ],
      "execution_count": null,
      "outputs": [
        {
          "output_type": "stream",
          "text": [
            "lim\n",
            "[1, 2, 3]\n"
          ],
          "name": "stdout"
        },
        {
          "output_type": "execute_result",
          "data": {
            "text/plain": [
              "[1, 2, 3]"
            ]
          },
          "metadata": {
            "tags": []
          },
          "execution_count": 158
        }
      ]
    },
    {
      "cell_type": "code",
      "metadata": {
        "id": "dMz2tqdgtra6",
        "colab": {
          "base_uri": "https://localhost:8080/"
        },
        "outputId": "61aa83a3-45bb-4479-b582-00a8afc852fc"
      },
      "source": [
        "class java:\n",
        "\n",
        "  def __init__(self, name, age):\n",
        "    self.name = name\n",
        "    self.age = age\n",
        "\n",
        "  def run(self):\n",
        "    print(self.name, self.age)\n",
        "\n",
        "lee = java('dd', 00)\n",
        "lee.run()"
      ],
      "execution_count": null,
      "outputs": [
        {
          "output_type": "stream",
          "text": [
            "dd 0\n"
          ],
          "name": "stdout"
        }
      ]
    }
  ]
}